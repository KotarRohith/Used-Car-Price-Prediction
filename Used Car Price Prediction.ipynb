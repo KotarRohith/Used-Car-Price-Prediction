{
 "cells": [
  {
   "cell_type": "code",
   "execution_count": 111,
   "id": "5a1e4f5a",
   "metadata": {},
   "outputs": [],
   "source": [
    "import pandas as pd\n",
    "import numpy as np"
   ]
  },
  {
   "cell_type": "code",
   "execution_count": 112,
   "id": "dc87b902",
   "metadata": {},
   "outputs": [],
   "source": [
    "car=pd.read_csv(\"quikr_car.csv\")"
   ]
  },
  {
   "cell_type": "code",
   "execution_count": 113,
   "id": "f4fe3f3d",
   "metadata": {},
   "outputs": [
    {
     "data": {
      "text/html": [
       "<div>\n",
       "<style scoped>\n",
       "    .dataframe tbody tr th:only-of-type {\n",
       "        vertical-align: middle;\n",
       "    }\n",
       "\n",
       "    .dataframe tbody tr th {\n",
       "        vertical-align: top;\n",
       "    }\n",
       "\n",
       "    .dataframe thead th {\n",
       "        text-align: right;\n",
       "    }\n",
       "</style>\n",
       "<table border=\"1\" class=\"dataframe\">\n",
       "  <thead>\n",
       "    <tr style=\"text-align: right;\">\n",
       "      <th></th>\n",
       "      <th>name</th>\n",
       "      <th>company</th>\n",
       "      <th>year</th>\n",
       "      <th>Price</th>\n",
       "      <th>kms_driven</th>\n",
       "      <th>fuel_type</th>\n",
       "    </tr>\n",
       "  </thead>\n",
       "  <tbody>\n",
       "    <tr>\n",
       "      <th>0</th>\n",
       "      <td>Hyundai Santro Xing XO eRLX Euro III</td>\n",
       "      <td>Hyundai</td>\n",
       "      <td>2007</td>\n",
       "      <td>80,000</td>\n",
       "      <td>45,000 kms</td>\n",
       "      <td>Petrol</td>\n",
       "    </tr>\n",
       "    <tr>\n",
       "      <th>1</th>\n",
       "      <td>Mahindra Jeep CL550 MDI</td>\n",
       "      <td>Mahindra</td>\n",
       "      <td>2006</td>\n",
       "      <td>4,25,000</td>\n",
       "      <td>40 kms</td>\n",
       "      <td>Diesel</td>\n",
       "    </tr>\n",
       "    <tr>\n",
       "      <th>2</th>\n",
       "      <td>Maruti Suzuki Alto 800 Vxi</td>\n",
       "      <td>Maruti</td>\n",
       "      <td>2018</td>\n",
       "      <td>Ask For Price</td>\n",
       "      <td>22,000 kms</td>\n",
       "      <td>Petrol</td>\n",
       "    </tr>\n",
       "    <tr>\n",
       "      <th>3</th>\n",
       "      <td>Hyundai Grand i10 Magna 1.2 Kappa VTVT</td>\n",
       "      <td>Hyundai</td>\n",
       "      <td>2014</td>\n",
       "      <td>3,25,000</td>\n",
       "      <td>28,000 kms</td>\n",
       "      <td>Petrol</td>\n",
       "    </tr>\n",
       "    <tr>\n",
       "      <th>4</th>\n",
       "      <td>Ford EcoSport Titanium 1.5L TDCi</td>\n",
       "      <td>Ford</td>\n",
       "      <td>2014</td>\n",
       "      <td>5,75,000</td>\n",
       "      <td>36,000 kms</td>\n",
       "      <td>Diesel</td>\n",
       "    </tr>\n",
       "    <tr>\n",
       "      <th>...</th>\n",
       "      <td>...</td>\n",
       "      <td>...</td>\n",
       "      <td>...</td>\n",
       "      <td>...</td>\n",
       "      <td>...</td>\n",
       "      <td>...</td>\n",
       "    </tr>\n",
       "    <tr>\n",
       "      <th>887</th>\n",
       "      <td>Ta</td>\n",
       "      <td>Tara</td>\n",
       "      <td>zest</td>\n",
       "      <td>3,10,000</td>\n",
       "      <td>NaN</td>\n",
       "      <td>NaN</td>\n",
       "    </tr>\n",
       "    <tr>\n",
       "      <th>888</th>\n",
       "      <td>Tata Zest XM Diesel</td>\n",
       "      <td>Tata</td>\n",
       "      <td>2018</td>\n",
       "      <td>2,60,000</td>\n",
       "      <td>27,000 kms</td>\n",
       "      <td>Diesel</td>\n",
       "    </tr>\n",
       "    <tr>\n",
       "      <th>889</th>\n",
       "      <td>Mahindra Quanto C8</td>\n",
       "      <td>Mahindra</td>\n",
       "      <td>2013</td>\n",
       "      <td>3,90,000</td>\n",
       "      <td>40,000 kms</td>\n",
       "      <td>Diesel</td>\n",
       "    </tr>\n",
       "    <tr>\n",
       "      <th>890</th>\n",
       "      <td>Honda Amaze 1.2 E i VTEC</td>\n",
       "      <td>Honda</td>\n",
       "      <td>2014</td>\n",
       "      <td>1,80,000</td>\n",
       "      <td>Petrol</td>\n",
       "      <td>NaN</td>\n",
       "    </tr>\n",
       "    <tr>\n",
       "      <th>891</th>\n",
       "      <td>Chevrolet Sail 1.2 LT ABS</td>\n",
       "      <td>Chevrolet</td>\n",
       "      <td>2014</td>\n",
       "      <td>1,60,000</td>\n",
       "      <td>Petrol</td>\n",
       "      <td>NaN</td>\n",
       "    </tr>\n",
       "  </tbody>\n",
       "</table>\n",
       "<p>892 rows × 6 columns</p>\n",
       "</div>"
      ],
      "text/plain": [
       "                                       name    company  year          Price  \\\n",
       "0      Hyundai Santro Xing XO eRLX Euro III    Hyundai  2007         80,000   \n",
       "1                   Mahindra Jeep CL550 MDI   Mahindra  2006       4,25,000   \n",
       "2                Maruti Suzuki Alto 800 Vxi     Maruti  2018  Ask For Price   \n",
       "3    Hyundai Grand i10 Magna 1.2 Kappa VTVT    Hyundai  2014       3,25,000   \n",
       "4          Ford EcoSport Titanium 1.5L TDCi       Ford  2014       5,75,000   \n",
       "..                                      ...        ...   ...            ...   \n",
       "887                                      Ta       Tara  zest       3,10,000   \n",
       "888                     Tata Zest XM Diesel       Tata  2018       2,60,000   \n",
       "889                      Mahindra Quanto C8   Mahindra  2013       3,90,000   \n",
       "890                Honda Amaze 1.2 E i VTEC      Honda  2014       1,80,000   \n",
       "891               Chevrolet Sail 1.2 LT ABS  Chevrolet  2014       1,60,000   \n",
       "\n",
       "     kms_driven fuel_type  \n",
       "0    45,000 kms    Petrol  \n",
       "1        40 kms    Diesel  \n",
       "2    22,000 kms    Petrol  \n",
       "3    28,000 kms    Petrol  \n",
       "4    36,000 kms    Diesel  \n",
       "..          ...       ...  \n",
       "887         NaN       NaN  \n",
       "888  27,000 kms    Diesel  \n",
       "889  40,000 kms    Diesel  \n",
       "890      Petrol       NaN  \n",
       "891      Petrol       NaN  \n",
       "\n",
       "[892 rows x 6 columns]"
      ]
     },
     "execution_count": 113,
     "metadata": {},
     "output_type": "execute_result"
    }
   ],
   "source": [
    "car"
   ]
  },
  {
   "cell_type": "code",
   "execution_count": 114,
   "id": "c800b66b",
   "metadata": {},
   "outputs": [
    {
     "name": "stdout",
     "output_type": "stream",
     "text": [
      "<class 'pandas.core.frame.DataFrame'>\n",
      "RangeIndex: 892 entries, 0 to 891\n",
      "Data columns (total 6 columns):\n",
      " #   Column      Non-Null Count  Dtype \n",
      "---  ------      --------------  ----- \n",
      " 0   name        892 non-null    object\n",
      " 1   company     892 non-null    object\n",
      " 2   year        892 non-null    object\n",
      " 3   Price       892 non-null    object\n",
      " 4   kms_driven  840 non-null    object\n",
      " 5   fuel_type   837 non-null    object\n",
      "dtypes: object(6)\n",
      "memory usage: 41.9+ KB\n"
     ]
    }
   ],
   "source": [
    "car.info()"
   ]
  },
  {
   "cell_type": "code",
   "execution_count": 115,
   "id": "1bb17d84",
   "metadata": {},
   "outputs": [],
   "source": [
    "car_backup=car.copy()"
   ]
  },
  {
   "cell_type": "code",
   "execution_count": 116,
   "id": "6bdfd509",
   "metadata": {},
   "outputs": [
    {
     "data": {
      "text/plain": [
       "array(['2007', '2006', '2018', '2014', '2015', '2012', '2013', '2016',\n",
       "       '2010', '2017', '2008', '2011', '2019', '2009', '2005', '2000',\n",
       "       '...', '150k', 'TOUR', '2003', 'r 15', '2004', 'Zest', '/-Rs',\n",
       "       'sale', '1995', 'ara)', '2002', 'SELL', '2001', 'tion', 'odel',\n",
       "       '2 bs', 'arry', 'Eon', 'o...', 'ture', 'emi', 'car', 'able', 'no.',\n",
       "       'd...', 'SALE', 'digo', 'sell', 'd Ex', 'n...', 'e...', 'D...',\n",
       "       ', Ac', 'go .', 'k...', 'o c4', 'zire', 'cent', 'Sumo', 'cab',\n",
       "       't xe', 'EV2', 'r...', 'zest'], dtype=object)"
      ]
     },
     "execution_count": 116,
     "metadata": {},
     "output_type": "execute_result"
    }
   ],
   "source": [
    "car[\"year\"].unique()"
   ]
  },
  {
   "cell_type": "code",
   "execution_count": 117,
   "id": "a9718e9f",
   "metadata": {},
   "outputs": [
    {
     "data": {
      "text/plain": [
       "0       True\n",
       "1       True\n",
       "2       True\n",
       "3       True\n",
       "4       True\n",
       "       ...  \n",
       "887    False\n",
       "888     True\n",
       "889     True\n",
       "890     True\n",
       "891     True\n",
       "Name: year, Length: 892, dtype: bool"
      ]
     },
     "execution_count": 117,
     "metadata": {},
     "output_type": "execute_result"
    }
   ],
   "source": [
    "car[\"year\"].str.isnumeric()"
   ]
  },
  {
   "cell_type": "code",
   "execution_count": 118,
   "id": "41598d25",
   "metadata": {},
   "outputs": [],
   "source": [
    "#removing rows which are not numeric\n",
    "car=car[car[\"year\"].str.isnumeric()]"
   ]
  },
  {
   "cell_type": "code",
   "execution_count": 119,
   "id": "fe810793",
   "metadata": {},
   "outputs": [
    {
     "data": {
      "text/html": [
       "<div>\n",
       "<style scoped>\n",
       "    .dataframe tbody tr th:only-of-type {\n",
       "        vertical-align: middle;\n",
       "    }\n",
       "\n",
       "    .dataframe tbody tr th {\n",
       "        vertical-align: top;\n",
       "    }\n",
       "\n",
       "    .dataframe thead th {\n",
       "        text-align: right;\n",
       "    }\n",
       "</style>\n",
       "<table border=\"1\" class=\"dataframe\">\n",
       "  <thead>\n",
       "    <tr style=\"text-align: right;\">\n",
       "      <th></th>\n",
       "      <th>name</th>\n",
       "      <th>company</th>\n",
       "      <th>year</th>\n",
       "      <th>Price</th>\n",
       "      <th>kms_driven</th>\n",
       "      <th>fuel_type</th>\n",
       "    </tr>\n",
       "  </thead>\n",
       "  <tbody>\n",
       "    <tr>\n",
       "      <th>0</th>\n",
       "      <td>Hyundai Santro Xing XO eRLX Euro III</td>\n",
       "      <td>Hyundai</td>\n",
       "      <td>2007</td>\n",
       "      <td>80,000</td>\n",
       "      <td>45,000 kms</td>\n",
       "      <td>Petrol</td>\n",
       "    </tr>\n",
       "    <tr>\n",
       "      <th>1</th>\n",
       "      <td>Mahindra Jeep CL550 MDI</td>\n",
       "      <td>Mahindra</td>\n",
       "      <td>2006</td>\n",
       "      <td>4,25,000</td>\n",
       "      <td>40 kms</td>\n",
       "      <td>Diesel</td>\n",
       "    </tr>\n",
       "    <tr>\n",
       "      <th>2</th>\n",
       "      <td>Maruti Suzuki Alto 800 Vxi</td>\n",
       "      <td>Maruti</td>\n",
       "      <td>2018</td>\n",
       "      <td>Ask For Price</td>\n",
       "      <td>22,000 kms</td>\n",
       "      <td>Petrol</td>\n",
       "    </tr>\n",
       "    <tr>\n",
       "      <th>3</th>\n",
       "      <td>Hyundai Grand i10 Magna 1.2 Kappa VTVT</td>\n",
       "      <td>Hyundai</td>\n",
       "      <td>2014</td>\n",
       "      <td>3,25,000</td>\n",
       "      <td>28,000 kms</td>\n",
       "      <td>Petrol</td>\n",
       "    </tr>\n",
       "    <tr>\n",
       "      <th>4</th>\n",
       "      <td>Ford EcoSport Titanium 1.5L TDCi</td>\n",
       "      <td>Ford</td>\n",
       "      <td>2014</td>\n",
       "      <td>5,75,000</td>\n",
       "      <td>36,000 kms</td>\n",
       "      <td>Diesel</td>\n",
       "    </tr>\n",
       "    <tr>\n",
       "      <th>...</th>\n",
       "      <td>...</td>\n",
       "      <td>...</td>\n",
       "      <td>...</td>\n",
       "      <td>...</td>\n",
       "      <td>...</td>\n",
       "      <td>...</td>\n",
       "    </tr>\n",
       "    <tr>\n",
       "      <th>886</th>\n",
       "      <td>Toyota Corolla Altis</td>\n",
       "      <td>Toyota</td>\n",
       "      <td>2009</td>\n",
       "      <td>3,00,000</td>\n",
       "      <td>1,32,000 kms</td>\n",
       "      <td>Petrol</td>\n",
       "    </tr>\n",
       "    <tr>\n",
       "      <th>888</th>\n",
       "      <td>Tata Zest XM Diesel</td>\n",
       "      <td>Tata</td>\n",
       "      <td>2018</td>\n",
       "      <td>2,60,000</td>\n",
       "      <td>27,000 kms</td>\n",
       "      <td>Diesel</td>\n",
       "    </tr>\n",
       "    <tr>\n",
       "      <th>889</th>\n",
       "      <td>Mahindra Quanto C8</td>\n",
       "      <td>Mahindra</td>\n",
       "      <td>2013</td>\n",
       "      <td>3,90,000</td>\n",
       "      <td>40,000 kms</td>\n",
       "      <td>Diesel</td>\n",
       "    </tr>\n",
       "    <tr>\n",
       "      <th>890</th>\n",
       "      <td>Honda Amaze 1.2 E i VTEC</td>\n",
       "      <td>Honda</td>\n",
       "      <td>2014</td>\n",
       "      <td>1,80,000</td>\n",
       "      <td>Petrol</td>\n",
       "      <td>NaN</td>\n",
       "    </tr>\n",
       "    <tr>\n",
       "      <th>891</th>\n",
       "      <td>Chevrolet Sail 1.2 LT ABS</td>\n",
       "      <td>Chevrolet</td>\n",
       "      <td>2014</td>\n",
       "      <td>1,60,000</td>\n",
       "      <td>Petrol</td>\n",
       "      <td>NaN</td>\n",
       "    </tr>\n",
       "  </tbody>\n",
       "</table>\n",
       "<p>842 rows × 6 columns</p>\n",
       "</div>"
      ],
      "text/plain": [
       "                                       name    company  year          Price  \\\n",
       "0      Hyundai Santro Xing XO eRLX Euro III    Hyundai  2007         80,000   \n",
       "1                   Mahindra Jeep CL550 MDI   Mahindra  2006       4,25,000   \n",
       "2                Maruti Suzuki Alto 800 Vxi     Maruti  2018  Ask For Price   \n",
       "3    Hyundai Grand i10 Magna 1.2 Kappa VTVT    Hyundai  2014       3,25,000   \n",
       "4          Ford EcoSport Titanium 1.5L TDCi       Ford  2014       5,75,000   \n",
       "..                                      ...        ...   ...            ...   \n",
       "886                    Toyota Corolla Altis     Toyota  2009       3,00,000   \n",
       "888                     Tata Zest XM Diesel       Tata  2018       2,60,000   \n",
       "889                      Mahindra Quanto C8   Mahindra  2013       3,90,000   \n",
       "890                Honda Amaze 1.2 E i VTEC      Honda  2014       1,80,000   \n",
       "891               Chevrolet Sail 1.2 LT ABS  Chevrolet  2014       1,60,000   \n",
       "\n",
       "       kms_driven fuel_type  \n",
       "0      45,000 kms    Petrol  \n",
       "1          40 kms    Diesel  \n",
       "2      22,000 kms    Petrol  \n",
       "3      28,000 kms    Petrol  \n",
       "4      36,000 kms    Diesel  \n",
       "..            ...       ...  \n",
       "886  1,32,000 kms    Petrol  \n",
       "888    27,000 kms    Diesel  \n",
       "889    40,000 kms    Diesel  \n",
       "890        Petrol       NaN  \n",
       "891        Petrol       NaN  \n",
       "\n",
       "[842 rows x 6 columns]"
      ]
     },
     "execution_count": 119,
     "metadata": {},
     "output_type": "execute_result"
    }
   ],
   "source": [
    "car"
   ]
  },
  {
   "cell_type": "code",
   "execution_count": 120,
   "id": "c60ff7c0",
   "metadata": {},
   "outputs": [
    {
     "name": "stderr",
     "output_type": "stream",
     "text": [
      "C:\\Users\\rohit\\AppData\\Local\\Temp\\ipykernel_38624\\3905606306.py:1: SettingWithCopyWarning: \n",
      "A value is trying to be set on a copy of a slice from a DataFrame.\n",
      "Try using .loc[row_indexer,col_indexer] = value instead\n",
      "\n",
      "See the caveats in the documentation: https://pandas.pydata.org/pandas-docs/stable/user_guide/indexing.html#returning-a-view-versus-a-copy\n",
      "  car[\"year\"]=car[\"year\"].astype(\"int\")\n"
     ]
    }
   ],
   "source": [
    "car[\"year\"]=car[\"year\"].astype(\"int\")"
   ]
  },
  {
   "cell_type": "code",
   "execution_count": 121,
   "id": "1bce4941",
   "metadata": {},
   "outputs": [
    {
     "name": "stdout",
     "output_type": "stream",
     "text": [
      "<class 'pandas.core.frame.DataFrame'>\n",
      "Int64Index: 842 entries, 0 to 891\n",
      "Data columns (total 6 columns):\n",
      " #   Column      Non-Null Count  Dtype \n",
      "---  ------      --------------  ----- \n",
      " 0   name        842 non-null    object\n",
      " 1   company     842 non-null    object\n",
      " 2   year        842 non-null    int32 \n",
      " 3   Price       842 non-null    object\n",
      " 4   kms_driven  840 non-null    object\n",
      " 5   fuel_type   837 non-null    object\n",
      "dtypes: int32(1), object(5)\n",
      "memory usage: 42.8+ KB\n"
     ]
    }
   ],
   "source": [
    "car.info()"
   ]
  },
  {
   "cell_type": "code",
   "execution_count": 122,
   "id": "1293fa89",
   "metadata": {},
   "outputs": [
    {
     "data": {
      "text/plain": [
       "array(['80,000', '4,25,000', 'Ask For Price', '3,25,000', '5,75,000',\n",
       "       '1,75,000', '1,90,000', '8,30,000', '2,50,000', '1,82,000',\n",
       "       '3,15,000', '4,15,000', '3,20,000', '10,00,000', '5,00,000',\n",
       "       '3,50,000', '1,60,000', '3,10,000', '75,000', '1,00,000',\n",
       "       '2,90,000', '95,000', '1,80,000', '3,85,000', '1,05,000',\n",
       "       '6,50,000', '6,89,999', '4,48,000', '5,49,000', '5,01,000',\n",
       "       '4,89,999', '2,80,000', '3,49,999', '2,84,999', '3,45,000',\n",
       "       '4,99,999', '2,35,000', '2,49,999', '14,75,000', '3,95,000',\n",
       "       '2,20,000', '1,70,000', '85,000', '2,00,000', '5,70,000',\n",
       "       '1,10,000', '4,48,999', '18,91,111', '1,59,500', '3,44,999',\n",
       "       '4,49,999', '8,65,000', '6,99,000', '3,75,000', '2,24,999',\n",
       "       '12,00,000', '1,95,000', '3,51,000', '2,40,000', '90,000',\n",
       "       '1,55,000', '6,00,000', '1,89,500', '2,10,000', '3,90,000',\n",
       "       '1,35,000', '16,00,000', '7,01,000', '2,65,000', '5,25,000',\n",
       "       '3,72,000', '6,35,000', '5,50,000', '4,85,000', '3,29,500',\n",
       "       '2,51,111', '5,69,999', '69,999', '2,99,999', '3,99,999',\n",
       "       '4,50,000', '2,70,000', '1,58,400', '1,79,000', '1,25,000',\n",
       "       '2,99,000', '1,50,000', '2,75,000', '2,85,000', '3,40,000',\n",
       "       '70,000', '2,89,999', '8,49,999', '7,49,999', '2,74,999',\n",
       "       '9,84,999', '5,99,999', '2,44,999', '4,74,999', '2,45,000',\n",
       "       '1,69,500', '3,70,000', '1,68,000', '1,45,000', '98,500',\n",
       "       '2,09,000', '1,85,000', '9,00,000', '6,99,999', '1,99,999',\n",
       "       '5,44,999', '1,99,000', '5,40,000', '49,000', '7,00,000', '55,000',\n",
       "       '8,95,000', '3,55,000', '5,65,000', '3,65,000', '40,000',\n",
       "       '4,00,000', '3,30,000', '5,80,000', '3,79,000', '2,19,000',\n",
       "       '5,19,000', '7,30,000', '20,00,000', '21,00,000', '14,00,000',\n",
       "       '3,11,000', '8,55,000', '5,35,000', '1,78,000', '3,00,000',\n",
       "       '2,55,000', '5,49,999', '3,80,000', '57,000', '4,10,000',\n",
       "       '2,25,000', '1,20,000', '59,000', '5,99,000', '6,75,000', '72,500',\n",
       "       '6,10,000', '2,30,000', '5,20,000', '5,24,999', '4,24,999',\n",
       "       '6,44,999', '5,84,999', '7,99,999', '4,44,999', '6,49,999',\n",
       "       '9,44,999', '5,74,999', '3,74,999', '1,30,000', '4,01,000',\n",
       "       '13,50,000', '1,74,999', '2,39,999', '99,999', '3,24,999',\n",
       "       '10,74,999', '11,30,000', '1,49,000', '7,70,000', '30,000',\n",
       "       '3,35,000', '3,99,000', '65,000', '1,69,999', '1,65,000',\n",
       "       '5,60,000', '9,50,000', '7,15,000', '45,000', '9,40,000',\n",
       "       '1,55,555', '15,00,000', '4,95,000', '8,00,000', '12,99,000',\n",
       "       '5,30,000', '14,99,000', '32,000', '4,05,000', '7,60,000',\n",
       "       '7,50,000', '4,19,000', '1,40,000', '15,40,000', '1,23,000',\n",
       "       '4,98,000', '4,80,000', '4,88,000', '15,25,000', '5,48,900',\n",
       "       '7,25,000', '99,000', '52,000', '28,00,000', '4,99,000',\n",
       "       '3,81,000', '2,78,000', '6,90,000', '2,60,000', '90,001',\n",
       "       '1,15,000', '15,99,000', '1,59,000', '51,999', '2,15,000',\n",
       "       '35,000', '11,50,000', '2,69,000', '60,000', '4,30,000',\n",
       "       '85,00,003', '4,01,919', '4,90,000', '4,24,000', '2,05,000',\n",
       "       '5,49,900', '4,35,000', '1,89,700', '3,89,700', '3,60,000',\n",
       "       '2,95,000', '1,14,990', '10,65,000', '4,70,000', '48,000',\n",
       "       '1,88,000', '4,65,000', '1,79,999', '21,90,000', '23,90,000',\n",
       "       '10,75,000', '4,75,000', '10,25,000', '6,15,000', '19,00,000',\n",
       "       '14,90,000', '15,10,000', '18,50,000', '7,90,000', '17,25,000',\n",
       "       '12,25,000', '68,000', '9,70,000', '31,00,000', '8,99,000',\n",
       "       '88,000', '53,000', '5,68,500', '71,000', '5,90,000', '7,95,000',\n",
       "       '42,000', '1,89,000', '1,62,000', '35,999', '29,00,000', '39,999',\n",
       "       '50,500', '5,10,000', '8,60,000', '5,00,001'], dtype=object)"
      ]
     },
     "execution_count": 122,
     "metadata": {},
     "output_type": "execute_result"
    }
   ],
   "source": [
    "car[\"Price\"].unique()"
   ]
  },
  {
   "cell_type": "code",
   "execution_count": 123,
   "id": "a9e7f02c",
   "metadata": {},
   "outputs": [
    {
     "name": "stderr",
     "output_type": "stream",
     "text": [
      "C:\\Users\\rohit\\AppData\\Local\\Temp\\ipykernel_38624\\4281095970.py:2: SettingWithCopyWarning: \n",
      "A value is trying to be set on a copy of a slice from a DataFrame.\n",
      "Try using .loc[row_indexer,col_indexer] = value instead\n",
      "\n",
      "See the caveats in the documentation: https://pandas.pydata.org/pandas-docs/stable/user_guide/indexing.html#returning-a-view-versus-a-copy\n",
      "  car[\"Price\"]=car[\"Price\"].str.replace(',','')\n"
     ]
    }
   ],
   "source": [
    "#removing commas and columns with string data\n",
    "car[\"Price\"]=car[\"Price\"].str.replace(',','')"
   ]
  },
  {
   "cell_type": "code",
   "execution_count": 124,
   "id": "4cbdf575",
   "metadata": {},
   "outputs": [
    {
     "data": {
      "text/html": [
       "<div>\n",
       "<style scoped>\n",
       "    .dataframe tbody tr th:only-of-type {\n",
       "        vertical-align: middle;\n",
       "    }\n",
       "\n",
       "    .dataframe tbody tr th {\n",
       "        vertical-align: top;\n",
       "    }\n",
       "\n",
       "    .dataframe thead th {\n",
       "        text-align: right;\n",
       "    }\n",
       "</style>\n",
       "<table border=\"1\" class=\"dataframe\">\n",
       "  <thead>\n",
       "    <tr style=\"text-align: right;\">\n",
       "      <th></th>\n",
       "      <th>name</th>\n",
       "      <th>company</th>\n",
       "      <th>year</th>\n",
       "      <th>Price</th>\n",
       "      <th>kms_driven</th>\n",
       "      <th>fuel_type</th>\n",
       "    </tr>\n",
       "  </thead>\n",
       "  <tbody>\n",
       "    <tr>\n",
       "      <th>0</th>\n",
       "      <td>Hyundai Santro Xing XO eRLX Euro III</td>\n",
       "      <td>Hyundai</td>\n",
       "      <td>2007</td>\n",
       "      <td>80000</td>\n",
       "      <td>45,000 kms</td>\n",
       "      <td>Petrol</td>\n",
       "    </tr>\n",
       "    <tr>\n",
       "      <th>1</th>\n",
       "      <td>Mahindra Jeep CL550 MDI</td>\n",
       "      <td>Mahindra</td>\n",
       "      <td>2006</td>\n",
       "      <td>425000</td>\n",
       "      <td>40 kms</td>\n",
       "      <td>Diesel</td>\n",
       "    </tr>\n",
       "    <tr>\n",
       "      <th>2</th>\n",
       "      <td>Maruti Suzuki Alto 800 Vxi</td>\n",
       "      <td>Maruti</td>\n",
       "      <td>2018</td>\n",
       "      <td>Ask For Price</td>\n",
       "      <td>22,000 kms</td>\n",
       "      <td>Petrol</td>\n",
       "    </tr>\n",
       "    <tr>\n",
       "      <th>3</th>\n",
       "      <td>Hyundai Grand i10 Magna 1.2 Kappa VTVT</td>\n",
       "      <td>Hyundai</td>\n",
       "      <td>2014</td>\n",
       "      <td>325000</td>\n",
       "      <td>28,000 kms</td>\n",
       "      <td>Petrol</td>\n",
       "    </tr>\n",
       "    <tr>\n",
       "      <th>4</th>\n",
       "      <td>Ford EcoSport Titanium 1.5L TDCi</td>\n",
       "      <td>Ford</td>\n",
       "      <td>2014</td>\n",
       "      <td>575000</td>\n",
       "      <td>36,000 kms</td>\n",
       "      <td>Diesel</td>\n",
       "    </tr>\n",
       "    <tr>\n",
       "      <th>...</th>\n",
       "      <td>...</td>\n",
       "      <td>...</td>\n",
       "      <td>...</td>\n",
       "      <td>...</td>\n",
       "      <td>...</td>\n",
       "      <td>...</td>\n",
       "    </tr>\n",
       "    <tr>\n",
       "      <th>886</th>\n",
       "      <td>Toyota Corolla Altis</td>\n",
       "      <td>Toyota</td>\n",
       "      <td>2009</td>\n",
       "      <td>300000</td>\n",
       "      <td>1,32,000 kms</td>\n",
       "      <td>Petrol</td>\n",
       "    </tr>\n",
       "    <tr>\n",
       "      <th>888</th>\n",
       "      <td>Tata Zest XM Diesel</td>\n",
       "      <td>Tata</td>\n",
       "      <td>2018</td>\n",
       "      <td>260000</td>\n",
       "      <td>27,000 kms</td>\n",
       "      <td>Diesel</td>\n",
       "    </tr>\n",
       "    <tr>\n",
       "      <th>889</th>\n",
       "      <td>Mahindra Quanto C8</td>\n",
       "      <td>Mahindra</td>\n",
       "      <td>2013</td>\n",
       "      <td>390000</td>\n",
       "      <td>40,000 kms</td>\n",
       "      <td>Diesel</td>\n",
       "    </tr>\n",
       "    <tr>\n",
       "      <th>890</th>\n",
       "      <td>Honda Amaze 1.2 E i VTEC</td>\n",
       "      <td>Honda</td>\n",
       "      <td>2014</td>\n",
       "      <td>180000</td>\n",
       "      <td>Petrol</td>\n",
       "      <td>NaN</td>\n",
       "    </tr>\n",
       "    <tr>\n",
       "      <th>891</th>\n",
       "      <td>Chevrolet Sail 1.2 LT ABS</td>\n",
       "      <td>Chevrolet</td>\n",
       "      <td>2014</td>\n",
       "      <td>160000</td>\n",
       "      <td>Petrol</td>\n",
       "      <td>NaN</td>\n",
       "    </tr>\n",
       "  </tbody>\n",
       "</table>\n",
       "<p>842 rows × 6 columns</p>\n",
       "</div>"
      ],
      "text/plain": [
       "                                       name    company  year          Price  \\\n",
       "0      Hyundai Santro Xing XO eRLX Euro III    Hyundai  2007          80000   \n",
       "1                   Mahindra Jeep CL550 MDI   Mahindra  2006         425000   \n",
       "2                Maruti Suzuki Alto 800 Vxi     Maruti  2018  Ask For Price   \n",
       "3    Hyundai Grand i10 Magna 1.2 Kappa VTVT    Hyundai  2014         325000   \n",
       "4          Ford EcoSport Titanium 1.5L TDCi       Ford  2014         575000   \n",
       "..                                      ...        ...   ...            ...   \n",
       "886                    Toyota Corolla Altis     Toyota  2009         300000   \n",
       "888                     Tata Zest XM Diesel       Tata  2018         260000   \n",
       "889                      Mahindra Quanto C8   Mahindra  2013         390000   \n",
       "890                Honda Amaze 1.2 E i VTEC      Honda  2014         180000   \n",
       "891               Chevrolet Sail 1.2 LT ABS  Chevrolet  2014         160000   \n",
       "\n",
       "       kms_driven fuel_type  \n",
       "0      45,000 kms    Petrol  \n",
       "1          40 kms    Diesel  \n",
       "2      22,000 kms    Petrol  \n",
       "3      28,000 kms    Petrol  \n",
       "4      36,000 kms    Diesel  \n",
       "..            ...       ...  \n",
       "886  1,32,000 kms    Petrol  \n",
       "888    27,000 kms    Diesel  \n",
       "889    40,000 kms    Diesel  \n",
       "890        Petrol       NaN  \n",
       "891        Petrol       NaN  \n",
       "\n",
       "[842 rows x 6 columns]"
      ]
     },
     "execution_count": 124,
     "metadata": {},
     "output_type": "execute_result"
    }
   ],
   "source": [
    "car"
   ]
  },
  {
   "cell_type": "code",
   "execution_count": 125,
   "id": "03565fa4",
   "metadata": {},
   "outputs": [],
   "source": [
    "car=car[car[\"Price\"].str.isnumeric()]"
   ]
  },
  {
   "cell_type": "code",
   "execution_count": 126,
   "id": "498133c9",
   "metadata": {},
   "outputs": [
    {
     "name": "stderr",
     "output_type": "stream",
     "text": [
      "C:\\Users\\rohit\\AppData\\Local\\Temp\\ipykernel_38624\\406845030.py:1: SettingWithCopyWarning: \n",
      "A value is trying to be set on a copy of a slice from a DataFrame.\n",
      "Try using .loc[row_indexer,col_indexer] = value instead\n",
      "\n",
      "See the caveats in the documentation: https://pandas.pydata.org/pandas-docs/stable/user_guide/indexing.html#returning-a-view-versus-a-copy\n",
      "  car[\"Price\"]=car[\"Price\"].astype(\"int\")\n"
     ]
    }
   ],
   "source": [
    "car[\"Price\"]=car[\"Price\"].astype(\"int\")"
   ]
  },
  {
   "cell_type": "code",
   "execution_count": 127,
   "id": "78fdbdaf",
   "metadata": {},
   "outputs": [
    {
     "data": {
      "text/plain": [
       "array(['45,000 kms', '40 kms', '28,000 kms', '36,000 kms', '41,000 kms',\n",
       "       '25,000 kms', '24,530 kms', '60,000 kms', '30,000 kms',\n",
       "       '32,000 kms', '48,660 kms', '4,000 kms', '16,934 kms',\n",
       "       '43,000 kms', '35,550 kms', '39,522 kms', '39,000 kms',\n",
       "       '55,000 kms', '72,000 kms', '15,975 kms', '70,000 kms',\n",
       "       '23,452 kms', '35,522 kms', '48,508 kms', '15,487 kms',\n",
       "       '82,000 kms', '20,000 kms', '68,000 kms', '38,000 kms',\n",
       "       '27,000 kms', '33,000 kms', '46,000 kms', '16,000 kms',\n",
       "       '47,000 kms', '35,000 kms', '30,874 kms', '15,000 kms',\n",
       "       '29,685 kms', '1,30,000 kms', '19,000 kms', '54,000 kms',\n",
       "       '13,000 kms', '38,200 kms', '22,000 kms', '50,000 kms',\n",
       "       '13,500 kms', '3,600 kms', '45,863 kms', '60,500 kms',\n",
       "       '12,500 kms', '18,000 kms', '13,349 kms', '29,000 kms',\n",
       "       '44,000 kms', '42,000 kms', '14,000 kms', '49,000 kms',\n",
       "       '36,200 kms', '51,000 kms', '1,04,000 kms', '33,333 kms',\n",
       "       '33,600 kms', '5,600 kms', '7,500 kms', '26,000 kms', '24,330 kms',\n",
       "       '65,480 kms', '2,00,000 kms', '59,000 kms', '99,000 kms',\n",
       "       '2,800 kms', '21,000 kms', '11,000 kms', '66,000 kms', '3,000 kms',\n",
       "       '7,000 kms', '38,500 kms', '37,200 kms', '43,200 kms',\n",
       "       '24,800 kms', '45,872 kms', '40,000 kms', '11,400 kms',\n",
       "       '97,200 kms', '52,000 kms', '31,000 kms', '1,75,430 kms',\n",
       "       '37,000 kms', '65,000 kms', '3,350 kms', '75,000 kms',\n",
       "       '62,000 kms', '73,000 kms', '2,200 kms', '54,870 kms',\n",
       "       '34,580 kms', '97,000 kms', '60 kms', '80,200 kms', '3,200 kms',\n",
       "       '0,000 kms', '5,000 kms', '588 kms', '71,200 kms', '1,75,400 kms',\n",
       "       '9,300 kms', '56,758 kms', '10,000 kms', '56,450 kms',\n",
       "       '56,000 kms', '32,700 kms', '9,000 kms', '73 kms', '1,60,000 kms',\n",
       "       '58,559 kms', '57,000 kms', '1,70,000 kms', '80,000 kms',\n",
       "       '6,821 kms', '23,000 kms', '34,000 kms', '1,800 kms',\n",
       "       '4,00,000 kms', '48,000 kms', '90,000 kms', '12,000 kms',\n",
       "       '69,900 kms', '1,66,000 kms', '122 kms', '0 kms', '36,469 kms',\n",
       "       '7,800 kms', '24,695 kms', '15,141 kms', '59,910 kms',\n",
       "       '1,00,000 kms', '4,500 kms', '1,29,000 kms', '300 kms',\n",
       "       '1,31,000 kms', '1,11,111 kms', '59,466 kms', '25,500 kms',\n",
       "       '44,005 kms', '2,110 kms', '43,222 kms', '1,00,200 kms', '65 kms',\n",
       "       '1,40,000 kms', '1,03,553 kms', '58,000 kms', '1,20,000 kms',\n",
       "       '49,800 kms', '100 kms', '81,876 kms', '6,020 kms', '55,700 kms',\n",
       "       '18,500 kms', '53,000 kms', '35,500 kms', '22,134 kms',\n",
       "       '1,000 kms', '8,500 kms', '87,000 kms', '6,000 kms', '8,000 kms',\n",
       "       '55,800 kms', '56,400 kms', '72,160 kms', '11,500 kms',\n",
       "       '1,33,000 kms', '2,000 kms', '88,000 kms', '65,422 kms',\n",
       "       '1,17,000 kms', '1,50,000 kms', '10,750 kms', '6,800 kms',\n",
       "       '9,800 kms', '57,923 kms', '30,201 kms', '6,200 kms', '37,518 kms',\n",
       "       '24,652 kms', '383 kms', '95,000 kms', '3,528 kms', '52,500 kms',\n",
       "       '47,900 kms', '52,800 kms', '1,95,000 kms', '48,008 kms',\n",
       "       '48,247 kms', '9,400 kms', '64,000 kms', '2,137 kms', '10,544 kms',\n",
       "       '1,47,000 kms', '90,001 kms', '48,006 kms', '74,000 kms',\n",
       "       '85,000 kms', '29,500 kms', '39,700 kms', '67,000 kms',\n",
       "       '19,336 kms', '60,105 kms', '45,933 kms', '1,02,563 kms',\n",
       "       '28,600 kms', '41,800 kms', '1,16,000 kms', '42,590 kms',\n",
       "       '7,400 kms', '54,500 kms', '76,000 kms', '00 kms', '11,523 kms',\n",
       "       '38,600 kms', '95,500 kms', '37,458 kms', '85,960 kms',\n",
       "       '12,516 kms', '30,600 kms', '2,550 kms', '62,500 kms',\n",
       "       '69,000 kms', '28,400 kms', '68,485 kms', '3,500 kms',\n",
       "       '85,455 kms', '63,000 kms', '1,600 kms', '77,000 kms',\n",
       "       '26,500 kms', '2,875 kms', '13,900 kms', '1,500 kms', '2,450 kms',\n",
       "       '1,625 kms', '33,400 kms', '60,123 kms', '1,37,495 kms',\n",
       "       '91,200 kms', '1,46,000 kms', '1,00,800 kms', '2,100 kms',\n",
       "       '2,500 kms', '1,32,000 kms', 'Petrol'], dtype=object)"
      ]
     },
     "execution_count": 127,
     "metadata": {},
     "output_type": "execute_result"
    }
   ],
   "source": [
    "car[\"kms_driven\"].unique()"
   ]
  },
  {
   "cell_type": "code",
   "execution_count": 128,
   "id": "a3a0a2fc",
   "metadata": {},
   "outputs": [
    {
     "name": "stderr",
     "output_type": "stream",
     "text": [
      "C:\\Users\\rohit\\AppData\\Local\\Temp\\ipykernel_38624\\2353256446.py:1: SettingWithCopyWarning: \n",
      "A value is trying to be set on a copy of a slice from a DataFrame.\n",
      "Try using .loc[row_indexer,col_indexer] = value instead\n",
      "\n",
      "See the caveats in the documentation: https://pandas.pydata.org/pandas-docs/stable/user_guide/indexing.html#returning-a-view-versus-a-copy\n",
      "  car[\"kms_driven\"]=car[\"kms_driven\"].str.split(\" \").str.get(0).str.replace(\",\",\"\")\n"
     ]
    }
   ],
   "source": [
    "car[\"kms_driven\"]=car[\"kms_driven\"].str.split(\" \").str.get(0).str.replace(\",\",\"\")"
   ]
  },
  {
   "cell_type": "code",
   "execution_count": 129,
   "id": "ff1414bc",
   "metadata": {},
   "outputs": [],
   "source": [
    "car=car[car[\"kms_driven\"].str.isnumeric()]"
   ]
  },
  {
   "cell_type": "code",
   "execution_count": 130,
   "id": "13086ff9",
   "metadata": {},
   "outputs": [],
   "source": [
    "car[\"kms_driven\"]=car[\"kms_driven\"].astype('int')"
   ]
  },
  {
   "cell_type": "code",
   "execution_count": 131,
   "id": "d7061406",
   "metadata": {},
   "outputs": [
    {
     "name": "stdout",
     "output_type": "stream",
     "text": [
      "<class 'pandas.core.frame.DataFrame'>\n",
      "Int64Index: 817 entries, 0 to 889\n",
      "Data columns (total 6 columns):\n",
      " #   Column      Non-Null Count  Dtype \n",
      "---  ------      --------------  ----- \n",
      " 0   name        817 non-null    object\n",
      " 1   company     817 non-null    object\n",
      " 2   year        817 non-null    int32 \n",
      " 3   Price       817 non-null    int32 \n",
      " 4   kms_driven  817 non-null    int32 \n",
      " 5   fuel_type   816 non-null    object\n",
      "dtypes: int32(3), object(3)\n",
      "memory usage: 35.1+ KB\n"
     ]
    }
   ],
   "source": [
    "car.info()"
   ]
  },
  {
   "cell_type": "code",
   "execution_count": 132,
   "id": "ff1e2cd3",
   "metadata": {},
   "outputs": [],
   "source": [
    "car[\"name\"]=car[\"name\"].str.split(\" \").str.slice(0,3).str.join(\" \")"
   ]
  },
  {
   "cell_type": "code",
   "execution_count": 133,
   "id": "147b8587",
   "metadata": {},
   "outputs": [
    {
     "data": {
      "text/html": [
       "<div>\n",
       "<style scoped>\n",
       "    .dataframe tbody tr th:only-of-type {\n",
       "        vertical-align: middle;\n",
       "    }\n",
       "\n",
       "    .dataframe tbody tr th {\n",
       "        vertical-align: top;\n",
       "    }\n",
       "\n",
       "    .dataframe thead th {\n",
       "        text-align: right;\n",
       "    }\n",
       "</style>\n",
       "<table border=\"1\" class=\"dataframe\">\n",
       "  <thead>\n",
       "    <tr style=\"text-align: right;\">\n",
       "      <th></th>\n",
       "      <th>name</th>\n",
       "      <th>company</th>\n",
       "      <th>year</th>\n",
       "      <th>Price</th>\n",
       "      <th>kms_driven</th>\n",
       "      <th>fuel_type</th>\n",
       "    </tr>\n",
       "  </thead>\n",
       "  <tbody>\n",
       "    <tr>\n",
       "      <th>0</th>\n",
       "      <td>Hyundai Santro Xing</td>\n",
       "      <td>Hyundai</td>\n",
       "      <td>2007</td>\n",
       "      <td>80000</td>\n",
       "      <td>45000</td>\n",
       "      <td>Petrol</td>\n",
       "    </tr>\n",
       "    <tr>\n",
       "      <th>1</th>\n",
       "      <td>Mahindra Jeep CL550</td>\n",
       "      <td>Mahindra</td>\n",
       "      <td>2006</td>\n",
       "      <td>425000</td>\n",
       "      <td>40</td>\n",
       "      <td>Diesel</td>\n",
       "    </tr>\n",
       "    <tr>\n",
       "      <th>3</th>\n",
       "      <td>Hyundai Grand i10</td>\n",
       "      <td>Hyundai</td>\n",
       "      <td>2014</td>\n",
       "      <td>325000</td>\n",
       "      <td>28000</td>\n",
       "      <td>Petrol</td>\n",
       "    </tr>\n",
       "    <tr>\n",
       "      <th>4</th>\n",
       "      <td>Ford EcoSport Titanium</td>\n",
       "      <td>Ford</td>\n",
       "      <td>2014</td>\n",
       "      <td>575000</td>\n",
       "      <td>36000</td>\n",
       "      <td>Diesel</td>\n",
       "    </tr>\n",
       "    <tr>\n",
       "      <th>6</th>\n",
       "      <td>Ford Figo</td>\n",
       "      <td>Ford</td>\n",
       "      <td>2012</td>\n",
       "      <td>175000</td>\n",
       "      <td>41000</td>\n",
       "      <td>Diesel</td>\n",
       "    </tr>\n",
       "  </tbody>\n",
       "</table>\n",
       "</div>"
      ],
      "text/plain": [
       "                     name   company  year   Price  kms_driven fuel_type\n",
       "0     Hyundai Santro Xing   Hyundai  2007   80000       45000    Petrol\n",
       "1     Mahindra Jeep CL550  Mahindra  2006  425000          40    Diesel\n",
       "3       Hyundai Grand i10   Hyundai  2014  325000       28000    Petrol\n",
       "4  Ford EcoSport Titanium      Ford  2014  575000       36000    Diesel\n",
       "6               Ford Figo      Ford  2012  175000       41000    Diesel"
      ]
     },
     "execution_count": 133,
     "metadata": {},
     "output_type": "execute_result"
    }
   ],
   "source": [
    "car.head()"
   ]
  },
  {
   "cell_type": "code",
   "execution_count": 134,
   "id": "0ab68ce8",
   "metadata": {},
   "outputs": [],
   "source": [
    "car=car[~car[\"fuel_type\"].isna()]"
   ]
  },
  {
   "cell_type": "code",
   "execution_count": 135,
   "id": "56fd3c87",
   "metadata": {},
   "outputs": [
    {
     "data": {
      "text/html": [
       "<div>\n",
       "<style scoped>\n",
       "    .dataframe tbody tr th:only-of-type {\n",
       "        vertical-align: middle;\n",
       "    }\n",
       "\n",
       "    .dataframe tbody tr th {\n",
       "        vertical-align: top;\n",
       "    }\n",
       "\n",
       "    .dataframe thead th {\n",
       "        text-align: right;\n",
       "    }\n",
       "</style>\n",
       "<table border=\"1\" class=\"dataframe\">\n",
       "  <thead>\n",
       "    <tr style=\"text-align: right;\">\n",
       "      <th></th>\n",
       "      <th>name</th>\n",
       "      <th>company</th>\n",
       "      <th>year</th>\n",
       "      <th>Price</th>\n",
       "      <th>kms_driven</th>\n",
       "      <th>fuel_type</th>\n",
       "    </tr>\n",
       "  </thead>\n",
       "  <tbody>\n",
       "    <tr>\n",
       "      <th>0</th>\n",
       "      <td>Hyundai Santro Xing</td>\n",
       "      <td>Hyundai</td>\n",
       "      <td>2007</td>\n",
       "      <td>80000</td>\n",
       "      <td>45000</td>\n",
       "      <td>Petrol</td>\n",
       "    </tr>\n",
       "    <tr>\n",
       "      <th>1</th>\n",
       "      <td>Mahindra Jeep CL550</td>\n",
       "      <td>Mahindra</td>\n",
       "      <td>2006</td>\n",
       "      <td>425000</td>\n",
       "      <td>40</td>\n",
       "      <td>Diesel</td>\n",
       "    </tr>\n",
       "    <tr>\n",
       "      <th>3</th>\n",
       "      <td>Hyundai Grand i10</td>\n",
       "      <td>Hyundai</td>\n",
       "      <td>2014</td>\n",
       "      <td>325000</td>\n",
       "      <td>28000</td>\n",
       "      <td>Petrol</td>\n",
       "    </tr>\n",
       "    <tr>\n",
       "      <th>4</th>\n",
       "      <td>Ford EcoSport Titanium</td>\n",
       "      <td>Ford</td>\n",
       "      <td>2014</td>\n",
       "      <td>575000</td>\n",
       "      <td>36000</td>\n",
       "      <td>Diesel</td>\n",
       "    </tr>\n",
       "    <tr>\n",
       "      <th>6</th>\n",
       "      <td>Ford Figo</td>\n",
       "      <td>Ford</td>\n",
       "      <td>2012</td>\n",
       "      <td>175000</td>\n",
       "      <td>41000</td>\n",
       "      <td>Diesel</td>\n",
       "    </tr>\n",
       "    <tr>\n",
       "      <th>...</th>\n",
       "      <td>...</td>\n",
       "      <td>...</td>\n",
       "      <td>...</td>\n",
       "      <td>...</td>\n",
       "      <td>...</td>\n",
       "      <td>...</td>\n",
       "    </tr>\n",
       "    <tr>\n",
       "      <th>883</th>\n",
       "      <td>Maruti Suzuki Ritz</td>\n",
       "      <td>Maruti</td>\n",
       "      <td>2011</td>\n",
       "      <td>270000</td>\n",
       "      <td>50000</td>\n",
       "      <td>Petrol</td>\n",
       "    </tr>\n",
       "    <tr>\n",
       "      <th>885</th>\n",
       "      <td>Tata Indica V2</td>\n",
       "      <td>Tata</td>\n",
       "      <td>2009</td>\n",
       "      <td>110000</td>\n",
       "      <td>30000</td>\n",
       "      <td>Diesel</td>\n",
       "    </tr>\n",
       "    <tr>\n",
       "      <th>886</th>\n",
       "      <td>Toyota Corolla Altis</td>\n",
       "      <td>Toyota</td>\n",
       "      <td>2009</td>\n",
       "      <td>300000</td>\n",
       "      <td>132000</td>\n",
       "      <td>Petrol</td>\n",
       "    </tr>\n",
       "    <tr>\n",
       "      <th>888</th>\n",
       "      <td>Tata Zest XM</td>\n",
       "      <td>Tata</td>\n",
       "      <td>2018</td>\n",
       "      <td>260000</td>\n",
       "      <td>27000</td>\n",
       "      <td>Diesel</td>\n",
       "    </tr>\n",
       "    <tr>\n",
       "      <th>889</th>\n",
       "      <td>Mahindra Quanto C8</td>\n",
       "      <td>Mahindra</td>\n",
       "      <td>2013</td>\n",
       "      <td>390000</td>\n",
       "      <td>40000</td>\n",
       "      <td>Diesel</td>\n",
       "    </tr>\n",
       "  </tbody>\n",
       "</table>\n",
       "<p>816 rows × 6 columns</p>\n",
       "</div>"
      ],
      "text/plain": [
       "                       name   company  year   Price  kms_driven fuel_type\n",
       "0       Hyundai Santro Xing   Hyundai  2007   80000       45000    Petrol\n",
       "1       Mahindra Jeep CL550  Mahindra  2006  425000          40    Diesel\n",
       "3         Hyundai Grand i10   Hyundai  2014  325000       28000    Petrol\n",
       "4    Ford EcoSport Titanium      Ford  2014  575000       36000    Diesel\n",
       "6                 Ford Figo      Ford  2012  175000       41000    Diesel\n",
       "..                      ...       ...   ...     ...         ...       ...\n",
       "883      Maruti Suzuki Ritz    Maruti  2011  270000       50000    Petrol\n",
       "885          Tata Indica V2      Tata  2009  110000       30000    Diesel\n",
       "886    Toyota Corolla Altis    Toyota  2009  300000      132000    Petrol\n",
       "888            Tata Zest XM      Tata  2018  260000       27000    Diesel\n",
       "889      Mahindra Quanto C8  Mahindra  2013  390000       40000    Diesel\n",
       "\n",
       "[816 rows x 6 columns]"
      ]
     },
     "execution_count": 135,
     "metadata": {},
     "output_type": "execute_result"
    }
   ],
   "source": [
    "car"
   ]
  },
  {
   "cell_type": "code",
   "execution_count": 136,
   "id": "00b5f28a",
   "metadata": {},
   "outputs": [
    {
     "data": {
      "text/html": [
       "<div>\n",
       "<style scoped>\n",
       "    .dataframe tbody tr th:only-of-type {\n",
       "        vertical-align: middle;\n",
       "    }\n",
       "\n",
       "    .dataframe tbody tr th {\n",
       "        vertical-align: top;\n",
       "    }\n",
       "\n",
       "    .dataframe thead th {\n",
       "        text-align: right;\n",
       "    }\n",
       "</style>\n",
       "<table border=\"1\" class=\"dataframe\">\n",
       "  <thead>\n",
       "    <tr style=\"text-align: right;\">\n",
       "      <th></th>\n",
       "      <th>name</th>\n",
       "      <th>company</th>\n",
       "      <th>year</th>\n",
       "      <th>Price</th>\n",
       "      <th>kms_driven</th>\n",
       "      <th>fuel_type</th>\n",
       "    </tr>\n",
       "  </thead>\n",
       "  <tbody>\n",
       "    <tr>\n",
       "      <th>0</th>\n",
       "      <td>Hyundai Santro Xing</td>\n",
       "      <td>Hyundai</td>\n",
       "      <td>2007</td>\n",
       "      <td>80000</td>\n",
       "      <td>45000</td>\n",
       "      <td>Petrol</td>\n",
       "    </tr>\n",
       "    <tr>\n",
       "      <th>1</th>\n",
       "      <td>Mahindra Jeep CL550</td>\n",
       "      <td>Mahindra</td>\n",
       "      <td>2006</td>\n",
       "      <td>425000</td>\n",
       "      <td>40</td>\n",
       "      <td>Diesel</td>\n",
       "    </tr>\n",
       "    <tr>\n",
       "      <th>2</th>\n",
       "      <td>Hyundai Grand i10</td>\n",
       "      <td>Hyundai</td>\n",
       "      <td>2014</td>\n",
       "      <td>325000</td>\n",
       "      <td>28000</td>\n",
       "      <td>Petrol</td>\n",
       "    </tr>\n",
       "    <tr>\n",
       "      <th>3</th>\n",
       "      <td>Ford EcoSport Titanium</td>\n",
       "      <td>Ford</td>\n",
       "      <td>2014</td>\n",
       "      <td>575000</td>\n",
       "      <td>36000</td>\n",
       "      <td>Diesel</td>\n",
       "    </tr>\n",
       "    <tr>\n",
       "      <th>4</th>\n",
       "      <td>Ford Figo</td>\n",
       "      <td>Ford</td>\n",
       "      <td>2012</td>\n",
       "      <td>175000</td>\n",
       "      <td>41000</td>\n",
       "      <td>Diesel</td>\n",
       "    </tr>\n",
       "    <tr>\n",
       "      <th>...</th>\n",
       "      <td>...</td>\n",
       "      <td>...</td>\n",
       "      <td>...</td>\n",
       "      <td>...</td>\n",
       "      <td>...</td>\n",
       "      <td>...</td>\n",
       "    </tr>\n",
       "    <tr>\n",
       "      <th>811</th>\n",
       "      <td>Maruti Suzuki Ritz</td>\n",
       "      <td>Maruti</td>\n",
       "      <td>2011</td>\n",
       "      <td>270000</td>\n",
       "      <td>50000</td>\n",
       "      <td>Petrol</td>\n",
       "    </tr>\n",
       "    <tr>\n",
       "      <th>812</th>\n",
       "      <td>Tata Indica V2</td>\n",
       "      <td>Tata</td>\n",
       "      <td>2009</td>\n",
       "      <td>110000</td>\n",
       "      <td>30000</td>\n",
       "      <td>Diesel</td>\n",
       "    </tr>\n",
       "    <tr>\n",
       "      <th>813</th>\n",
       "      <td>Toyota Corolla Altis</td>\n",
       "      <td>Toyota</td>\n",
       "      <td>2009</td>\n",
       "      <td>300000</td>\n",
       "      <td>132000</td>\n",
       "      <td>Petrol</td>\n",
       "    </tr>\n",
       "    <tr>\n",
       "      <th>814</th>\n",
       "      <td>Tata Zest XM</td>\n",
       "      <td>Tata</td>\n",
       "      <td>2018</td>\n",
       "      <td>260000</td>\n",
       "      <td>27000</td>\n",
       "      <td>Diesel</td>\n",
       "    </tr>\n",
       "    <tr>\n",
       "      <th>815</th>\n",
       "      <td>Mahindra Quanto C8</td>\n",
       "      <td>Mahindra</td>\n",
       "      <td>2013</td>\n",
       "      <td>390000</td>\n",
       "      <td>40000</td>\n",
       "      <td>Diesel</td>\n",
       "    </tr>\n",
       "  </tbody>\n",
       "</table>\n",
       "<p>816 rows × 6 columns</p>\n",
       "</div>"
      ],
      "text/plain": [
       "                       name   company  year   Price  kms_driven fuel_type\n",
       "0       Hyundai Santro Xing   Hyundai  2007   80000       45000    Petrol\n",
       "1       Mahindra Jeep CL550  Mahindra  2006  425000          40    Diesel\n",
       "2         Hyundai Grand i10   Hyundai  2014  325000       28000    Petrol\n",
       "3    Ford EcoSport Titanium      Ford  2014  575000       36000    Diesel\n",
       "4                 Ford Figo      Ford  2012  175000       41000    Diesel\n",
       "..                      ...       ...   ...     ...         ...       ...\n",
       "811      Maruti Suzuki Ritz    Maruti  2011  270000       50000    Petrol\n",
       "812          Tata Indica V2      Tata  2009  110000       30000    Diesel\n",
       "813    Toyota Corolla Altis    Toyota  2009  300000      132000    Petrol\n",
       "814            Tata Zest XM      Tata  2018  260000       27000    Diesel\n",
       "815      Mahindra Quanto C8  Mahindra  2013  390000       40000    Diesel\n",
       "\n",
       "[816 rows x 6 columns]"
      ]
     },
     "execution_count": 136,
     "metadata": {},
     "output_type": "execute_result"
    }
   ],
   "source": [
    "car.reset_index(drop=True)"
   ]
  },
  {
   "cell_type": "code",
   "execution_count": 137,
   "id": "2997c6a6",
   "metadata": {},
   "outputs": [
    {
     "data": {
      "text/html": [
       "<div>\n",
       "<style scoped>\n",
       "    .dataframe tbody tr th:only-of-type {\n",
       "        vertical-align: middle;\n",
       "    }\n",
       "\n",
       "    .dataframe tbody tr th {\n",
       "        vertical-align: top;\n",
       "    }\n",
       "\n",
       "    .dataframe thead th {\n",
       "        text-align: right;\n",
       "    }\n",
       "</style>\n",
       "<table border=\"1\" class=\"dataframe\">\n",
       "  <thead>\n",
       "    <tr style=\"text-align: right;\">\n",
       "      <th></th>\n",
       "      <th>name</th>\n",
       "      <th>company</th>\n",
       "      <th>year</th>\n",
       "      <th>Price</th>\n",
       "      <th>kms_driven</th>\n",
       "      <th>fuel_type</th>\n",
       "    </tr>\n",
       "  </thead>\n",
       "  <tbody>\n",
       "    <tr>\n",
       "      <th>count</th>\n",
       "      <td>816</td>\n",
       "      <td>816</td>\n",
       "      <td>816.000000</td>\n",
       "      <td>8.160000e+02</td>\n",
       "      <td>816.000000</td>\n",
       "      <td>816</td>\n",
       "    </tr>\n",
       "    <tr>\n",
       "      <th>unique</th>\n",
       "      <td>254</td>\n",
       "      <td>25</td>\n",
       "      <td>NaN</td>\n",
       "      <td>NaN</td>\n",
       "      <td>NaN</td>\n",
       "      <td>3</td>\n",
       "    </tr>\n",
       "    <tr>\n",
       "      <th>top</th>\n",
       "      <td>Maruti Suzuki Swift</td>\n",
       "      <td>Maruti</td>\n",
       "      <td>NaN</td>\n",
       "      <td>NaN</td>\n",
       "      <td>NaN</td>\n",
       "      <td>Petrol</td>\n",
       "    </tr>\n",
       "    <tr>\n",
       "      <th>freq</th>\n",
       "      <td>51</td>\n",
       "      <td>221</td>\n",
       "      <td>NaN</td>\n",
       "      <td>NaN</td>\n",
       "      <td>NaN</td>\n",
       "      <td>428</td>\n",
       "    </tr>\n",
       "    <tr>\n",
       "      <th>mean</th>\n",
       "      <td>NaN</td>\n",
       "      <td>NaN</td>\n",
       "      <td>2012.444853</td>\n",
       "      <td>4.117176e+05</td>\n",
       "      <td>46275.531863</td>\n",
       "      <td>NaN</td>\n",
       "    </tr>\n",
       "    <tr>\n",
       "      <th>std</th>\n",
       "      <td>NaN</td>\n",
       "      <td>NaN</td>\n",
       "      <td>4.002992</td>\n",
       "      <td>4.751844e+05</td>\n",
       "      <td>34297.428044</td>\n",
       "      <td>NaN</td>\n",
       "    </tr>\n",
       "    <tr>\n",
       "      <th>min</th>\n",
       "      <td>NaN</td>\n",
       "      <td>NaN</td>\n",
       "      <td>1995.000000</td>\n",
       "      <td>3.000000e+04</td>\n",
       "      <td>0.000000</td>\n",
       "      <td>NaN</td>\n",
       "    </tr>\n",
       "    <tr>\n",
       "      <th>25%</th>\n",
       "      <td>NaN</td>\n",
       "      <td>NaN</td>\n",
       "      <td>2010.000000</td>\n",
       "      <td>1.750000e+05</td>\n",
       "      <td>27000.000000</td>\n",
       "      <td>NaN</td>\n",
       "    </tr>\n",
       "    <tr>\n",
       "      <th>50%</th>\n",
       "      <td>NaN</td>\n",
       "      <td>NaN</td>\n",
       "      <td>2013.000000</td>\n",
       "      <td>2.999990e+05</td>\n",
       "      <td>41000.000000</td>\n",
       "      <td>NaN</td>\n",
       "    </tr>\n",
       "    <tr>\n",
       "      <th>75%</th>\n",
       "      <td>NaN</td>\n",
       "      <td>NaN</td>\n",
       "      <td>2015.000000</td>\n",
       "      <td>4.912500e+05</td>\n",
       "      <td>56818.500000</td>\n",
       "      <td>NaN</td>\n",
       "    </tr>\n",
       "    <tr>\n",
       "      <th>max</th>\n",
       "      <td>NaN</td>\n",
       "      <td>NaN</td>\n",
       "      <td>2019.000000</td>\n",
       "      <td>8.500003e+06</td>\n",
       "      <td>400000.000000</td>\n",
       "      <td>NaN</td>\n",
       "    </tr>\n",
       "  </tbody>\n",
       "</table>\n",
       "</div>"
      ],
      "text/plain": [
       "                       name company         year         Price     kms_driven  \\\n",
       "count                   816     816   816.000000  8.160000e+02     816.000000   \n",
       "unique                  254      25          NaN           NaN            NaN   \n",
       "top     Maruti Suzuki Swift  Maruti          NaN           NaN            NaN   \n",
       "freq                     51     221          NaN           NaN            NaN   \n",
       "mean                    NaN     NaN  2012.444853  4.117176e+05   46275.531863   \n",
       "std                     NaN     NaN     4.002992  4.751844e+05   34297.428044   \n",
       "min                     NaN     NaN  1995.000000  3.000000e+04       0.000000   \n",
       "25%                     NaN     NaN  2010.000000  1.750000e+05   27000.000000   \n",
       "50%                     NaN     NaN  2013.000000  2.999990e+05   41000.000000   \n",
       "75%                     NaN     NaN  2015.000000  4.912500e+05   56818.500000   \n",
       "max                     NaN     NaN  2019.000000  8.500003e+06  400000.000000   \n",
       "\n",
       "       fuel_type  \n",
       "count        816  \n",
       "unique         3  \n",
       "top       Petrol  \n",
       "freq         428  \n",
       "mean         NaN  \n",
       "std          NaN  \n",
       "min          NaN  \n",
       "25%          NaN  \n",
       "50%          NaN  \n",
       "75%          NaN  \n",
       "max          NaN  "
      ]
     },
     "execution_count": 137,
     "metadata": {},
     "output_type": "execute_result"
    }
   ],
   "source": [
    "car.describe(include='all')\n"
   ]
  },
  {
   "cell_type": "code",
   "execution_count": 138,
   "id": "1a58e5fc",
   "metadata": {},
   "outputs": [
    {
     "data": {
      "image/png": "[encoded data removed]",
      "text/plain": [
       "<Figure size 1500x700 with 1 Axes>"
      ]
     },
     "metadata": {},
     "output_type": "display_data"
    }
   ],
   "source": [
    "plt.subplots(figsize=(15,7))\n",
    "ax=sns.boxplot(x='company',y='Price',data=car)\n",
    "ax.set_xticklabels(ax.get_xticklabels(),rotation=40,ha='right')\n",
    "plt.show()"
   ]
  },
  {
   "cell_type": "markdown",
   "id": "422f79c6",
   "metadata": {},
   "source": [
    "There is an outlier as shown above. "
   ]
  },
  {
   "cell_type": "code",
   "execution_count": 142,
   "id": "fe5923ef",
   "metadata": {},
   "outputs": [],
   "source": [
    "car=car[car['Price']<6000000]\n"
   ]
  },
  {
   "cell_type": "code",
   "execution_count": 143,
   "id": "4a851923",
   "metadata": {},
   "outputs": [
    {
     "data": {
      "text/html": [
       "<div>\n",
       "<style scoped>\n",
       "    .dataframe tbody tr th:only-of-type {\n",
       "        vertical-align: middle;\n",
       "    }\n",
       "\n",
       "    .dataframe tbody tr th {\n",
       "        vertical-align: top;\n",
       "    }\n",
       "\n",
       "    .dataframe thead th {\n",
       "        text-align: right;\n",
       "    }\n",
       "</style>\n",
       "<table border=\"1\" class=\"dataframe\">\n",
       "  <thead>\n",
       "    <tr style=\"text-align: right;\">\n",
       "      <th></th>\n",
       "      <th>name</th>\n",
       "      <th>company</th>\n",
       "      <th>year</th>\n",
       "      <th>Price</th>\n",
       "      <th>kms_driven</th>\n",
       "      <th>fuel_type</th>\n",
       "    </tr>\n",
       "  </thead>\n",
       "  <tbody>\n",
       "    <tr>\n",
       "      <th>count</th>\n",
       "      <td>815</td>\n",
       "      <td>815</td>\n",
       "      <td>815.000000</td>\n",
       "      <td>8.150000e+02</td>\n",
       "      <td>815.000000</td>\n",
       "      <td>815</td>\n",
       "    </tr>\n",
       "    <tr>\n",
       "      <th>unique</th>\n",
       "      <td>254</td>\n",
       "      <td>25</td>\n",
       "      <td>NaN</td>\n",
       "      <td>NaN</td>\n",
       "      <td>NaN</td>\n",
       "      <td>3</td>\n",
       "    </tr>\n",
       "    <tr>\n",
       "      <th>top</th>\n",
       "      <td>Maruti Suzuki Swift</td>\n",
       "      <td>Maruti</td>\n",
       "      <td>NaN</td>\n",
       "      <td>NaN</td>\n",
       "      <td>NaN</td>\n",
       "      <td>Petrol</td>\n",
       "    </tr>\n",
       "    <tr>\n",
       "      <th>freq</th>\n",
       "      <td>51</td>\n",
       "      <td>221</td>\n",
       "      <td>NaN</td>\n",
       "      <td>NaN</td>\n",
       "      <td>NaN</td>\n",
       "      <td>428</td>\n",
       "    </tr>\n",
       "    <tr>\n",
       "      <th>mean</th>\n",
       "      <td>NaN</td>\n",
       "      <td>NaN</td>\n",
       "      <td>2012.442945</td>\n",
       "      <td>4.017933e+05</td>\n",
       "      <td>46277.096933</td>\n",
       "      <td>NaN</td>\n",
       "    </tr>\n",
       "    <tr>\n",
       "      <th>std</th>\n",
       "      <td>NaN</td>\n",
       "      <td>NaN</td>\n",
       "      <td>4.005079</td>\n",
       "      <td>3.815888e+05</td>\n",
       "      <td>34318.459638</td>\n",
       "      <td>NaN</td>\n",
       "    </tr>\n",
       "    <tr>\n",
       "      <th>min</th>\n",
       "      <td>NaN</td>\n",
       "      <td>NaN</td>\n",
       "      <td>1995.000000</td>\n",
       "      <td>3.000000e+04</td>\n",
       "      <td>0.000000</td>\n",
       "      <td>NaN</td>\n",
       "    </tr>\n",
       "    <tr>\n",
       "      <th>25%</th>\n",
       "      <td>NaN</td>\n",
       "      <td>NaN</td>\n",
       "      <td>2010.000000</td>\n",
       "      <td>1.750000e+05</td>\n",
       "      <td>27000.000000</td>\n",
       "      <td>NaN</td>\n",
       "    </tr>\n",
       "    <tr>\n",
       "      <th>50%</th>\n",
       "      <td>NaN</td>\n",
       "      <td>NaN</td>\n",
       "      <td>2013.000000</td>\n",
       "      <td>2.999990e+05</td>\n",
       "      <td>41000.000000</td>\n",
       "      <td>NaN</td>\n",
       "    </tr>\n",
       "    <tr>\n",
       "      <th>75%</th>\n",
       "      <td>NaN</td>\n",
       "      <td>NaN</td>\n",
       "      <td>2015.000000</td>\n",
       "      <td>4.900000e+05</td>\n",
       "      <td>56879.000000</td>\n",
       "      <td>NaN</td>\n",
       "    </tr>\n",
       "    <tr>\n",
       "      <th>max</th>\n",
       "      <td>NaN</td>\n",
       "      <td>NaN</td>\n",
       "      <td>2019.000000</td>\n",
       "      <td>3.100000e+06</td>\n",
       "      <td>400000.000000</td>\n",
       "      <td>NaN</td>\n",
       "    </tr>\n",
       "  </tbody>\n",
       "</table>\n",
       "</div>"
      ],
      "text/plain": [
       "                       name company         year         Price     kms_driven  \\\n",
       "count                   815     815   815.000000  8.150000e+02     815.000000   \n",
       "unique                  254      25          NaN           NaN            NaN   \n",
       "top     Maruti Suzuki Swift  Maruti          NaN           NaN            NaN   \n",
       "freq                     51     221          NaN           NaN            NaN   \n",
       "mean                    NaN     NaN  2012.442945  4.017933e+05   46277.096933   \n",
       "std                     NaN     NaN     4.005079  3.815888e+05   34318.459638   \n",
       "min                     NaN     NaN  1995.000000  3.000000e+04       0.000000   \n",
       "25%                     NaN     NaN  2010.000000  1.750000e+05   27000.000000   \n",
       "50%                     NaN     NaN  2013.000000  2.999990e+05   41000.000000   \n",
       "75%                     NaN     NaN  2015.000000  4.900000e+05   56879.000000   \n",
       "max                     NaN     NaN  2019.000000  3.100000e+06  400000.000000   \n",
       "\n",
       "       fuel_type  \n",
       "count        815  \n",
       "unique         3  \n",
       "top       Petrol  \n",
       "freq         428  \n",
       "mean         NaN  \n",
       "std          NaN  \n",
       "min          NaN  \n",
       "25%          NaN  \n",
       "50%          NaN  \n",
       "75%          NaN  \n",
       "max          NaN  "
      ]
     },
     "execution_count": 143,
     "metadata": {},
     "output_type": "execute_result"
    }
   ],
   "source": [
    "car.describe(include='all')\n"
   ]
  },
  {
   "cell_type": "code",
   "execution_count": 144,
   "id": "18d6eb64",
   "metadata": {},
   "outputs": [],
   "source": [
    "import seaborn as sns\n",
    "import matplotlib.pyplot as plt\n"
   ]
  },
  {
   "cell_type": "code",
   "execution_count": 145,
   "id": "c871ab31",
   "metadata": {},
   "outputs": [
    {
     "data": {
      "image/png": "[encoded data removed]",
      "text/plain": [
       "<Figure size 1500x700 with 1 Axes>"
      ]
     },
     "metadata": {},
     "output_type": "display_data"
    }
   ],
   "source": [
    "plt.subplots(figsize=(15,7))\n",
    "ax=sns.boxplot(x='company',y='Price',data=car)\n",
    "ax.set_xticklabels(ax.get_xticklabels(),rotation=40,ha='right')\n",
    "plt.show()"
   ]
  },
  {
   "cell_type": "code",
   "execution_count": 146,
   "id": "a53937a8",
   "metadata": {},
   "outputs": [
    {
     "name": "stderr",
     "output_type": "stream",
     "text": [
      "C:\\Users\\rohit\\anaconda3\\Lib\\site-packages\\seaborn\\categorical.py:3544: UserWarning: 13.6% of the points cannot be placed; you may want to decrease the size of the markers or use stripplot.\n",
      "  warnings.warn(msg, UserWarning)\n",
      "C:\\Users\\rohit\\anaconda3\\Lib\\site-packages\\seaborn\\categorical.py:3544: UserWarning: 13.0% of the points cannot be placed; you may want to decrease the size of the markers or use stripplot.\n",
      "  warnings.warn(msg, UserWarning)\n",
      "C:\\Users\\rohit\\anaconda3\\Lib\\site-packages\\seaborn\\categorical.py:3544: UserWarning: 6.8% of the points cannot be placed; you may want to decrease the size of the markers or use stripplot.\n",
      "  warnings.warn(msg, UserWarning)\n",
      "C:\\Users\\rohit\\anaconda3\\Lib\\site-packages\\seaborn\\categorical.py:3544: UserWarning: 10.6% of the points cannot be placed; you may want to decrease the size of the markers or use stripplot.\n",
      "  warnings.warn(msg, UserWarning)\n",
      "C:\\Users\\rohit\\anaconda3\\Lib\\site-packages\\seaborn\\categorical.py:3544: UserWarning: 7.7% of the points cannot be placed; you may want to decrease the size of the markers or use stripplot.\n",
      "  warnings.warn(msg, UserWarning)\n",
      "C:\\Users\\rohit\\AppData\\Local\\Temp\\ipykernel_38624\\2542042277.py:3: UserWarning: FixedFormatter should only be used together with FixedLocator\n",
      "  ax.set_xticklabels(ax.get_xticklabels(),rotation=40,ha='right')\n",
      "C:\\Users\\rohit\\anaconda3\\Lib\\site-packages\\seaborn\\categorical.py:3544: UserWarning: 9.3% of the points cannot be placed; you may want to decrease the size of the markers or use stripplot.\n",
      "  warnings.warn(msg, UserWarning)\n",
      "C:\\Users\\rohit\\anaconda3\\Lib\\site-packages\\seaborn\\categorical.py:3544: UserWarning: 9.6% of the points cannot be placed; you may want to decrease the size of the markers or use stripplot.\n",
      "  warnings.warn(msg, UserWarning)\n",
      "C:\\Users\\rohit\\anaconda3\\Lib\\site-packages\\seaborn\\categorical.py:3544: UserWarning: 5.5% of the points cannot be placed; you may want to decrease the size of the markers or use stripplot.\n",
      "  warnings.warn(msg, UserWarning)\n"
     ]
    },
    {
     "data": {
      "image/png": "[encoded data removed]",
      "text/plain": [
       "<Figure size 2000x1000 with 1 Axes>"
      ]
     },
     "metadata": {},
     "output_type": "display_data"
    }
   ],
   "source": [
    "plt.subplots(figsize=(20,10))\n",
    "ax=sns.swarmplot(x='year',y='Price',data=car)\n",
    "ax.set_xticklabels(ax.get_xticklabels(),rotation=40,ha='right')\n",
    "plt.show()"
   ]
  },
  {
   "cell_type": "code",
   "execution_count": 147,
   "id": "556f10ff",
   "metadata": {},
   "outputs": [
    {
     "data": {
      "text/plain": [
       "<seaborn.axisgrid.FacetGrid at 0x2153a1c5a90>"
      ]
     },
     "execution_count": 147,
     "metadata": {},
     "output_type": "execute_result"
    },
    {
     "data": {
      "image/png": "[encoded data removed]",
      "text/plain": [
       "<Figure size 1492.62x700 with 1 Axes>"
      ]
     },
     "metadata": {},
     "output_type": "display_data"
    }
   ],
   "source": [
    "ax=sns.relplot(x='company',y='Price',data=car,hue='fuel_type',size='year',height=7,aspect=2)\n",
    "ax.set_xticklabels(rotation=40,ha='right')"
   ]
  },
  {
   "cell_type": "code",
   "execution_count": 151,
   "id": "1dd39832",
   "metadata": {},
   "outputs": [],
   "source": [
    "#Train and test data\n",
    "\n",
    "X=car[['name','company','year','kms_driven','fuel_type']]\n",
    "y=car['Price']"
   ]
  },
  {
   "cell_type": "code",
   "execution_count": 153,
   "id": "fd3c60b5",
   "metadata": {},
   "outputs": [
    {
     "data": {
      "text/plain": [
       "(815,)"
      ]
     },
     "execution_count": 153,
     "metadata": {},
     "output_type": "execute_result"
    }
   ],
   "source": [
    "y.shape"
   ]
  },
  {
   "cell_type": "code",
   "execution_count": 164,
   "id": "f375faf7",
   "metadata": {},
   "outputs": [],
   "source": [
    "from sklearn.model_selection import train_test_split\n",
    "X_train,X_test,y_train,y_test=train_test_split(X,y,test_size=0.2)"
   ]
  },
  {
   "cell_type": "code",
   "execution_count": 165,
   "id": "f0552979",
   "metadata": {},
   "outputs": [],
   "source": [
    "from sklearn.linear_model import LinearRegression"
   ]
  },
  {
   "cell_type": "code",
   "execution_count": 166,
   "id": "5dd17b4a",
   "metadata": {},
   "outputs": [],
   "source": [
    "from sklearn.preprocessing import OneHotEncoder\n",
    "from sklearn.compose import make_column_transformer\n",
    "from sklearn.pipeline import make_pipeline\n",
    "from sklearn.metrics import r2_score"
   ]
  },
  {
   "cell_type": "markdown",
   "id": "15841375",
   "metadata": {},
   "source": [
    "Why OneHotEncoder?\n",
    "\n",
    "\n",
    "Imagine you're trying to teach a computer to understand different types of fruits. You've collected a bunch of data about these fruits, including their names and colors. However, the computer doesn't understand words or colors in the same way humans do. It needs numbers to work with. This is where the OneHotEncoder comes into play.\n",
    "\n",
    "The OneHotEncoder is like a translator that takes the names and colors of fruits and converts them into numbers that the computer can understand. It does this by creating a special kind of code for each category\n",
    "\n",
    " So, an apple might be represented as [1, 0, 0], a banana as [0, 1, 0], and an orange as [0, 0, 1]."
   ]
  },
  {
   "cell_type": "code",
   "execution_count": 167,
   "id": "cd8cc53e",
   "metadata": {},
   "outputs": [
    {
     "data": {
      "text/html": [
       "<style>#sk-container-id-3 {color: black;}#sk-container-id-3 pre{padding: 0;}#sk-container-id-3 div.sk-toggleable {background-color: white;}#sk-container-id-3 label.sk-toggleable__label {cursor: pointer;display: block;width: 100%;margin-bottom: 0;padding: 0.3em;box-sizing: border-box;text-align: center;}#sk-container-id-3 label.sk-toggleable__label-arrow:before {content: \"▸\";float: left;margin-right: 0.25em;color: #696969;}#sk-container-id-3 label.sk-toggleable__label-arrow:hover:before {color: black;}#sk-container-id-3 div.sk-estimator:hover label.sk-toggleable__label-arrow:before {color: black;}#sk-container-id-3 div.sk-toggleable__content {max-height: 0;max-width: 0;overflow: hidden;text-align: left;background-color: #f0f8ff;}#sk-container-id-3 div.sk-toggleable__content pre {margin: 0.2em;color: black;border-radius: 0.25em;background-color: #f0f8ff;}#sk-container-id-3 input.sk-toggleable__control:checked~div.sk-toggleable__content {max-height: 200px;max-width: 100%;overflow: auto;}#sk-container-id-3 input.sk-toggleable__control:checked~label.sk-toggleable__label-arrow:before {content: \"▾\";}#sk-container-id-3 div.sk-estimator input.sk-toggleable__control:checked~label.sk-toggleable__label {background-color: #d4ebff;}#sk-container-id-3 div.sk-label input.sk-toggleable__control:checked~label.sk-toggleable__label {background-color: #d4ebff;}#sk-container-id-3 input.sk-hidden--visually {border: 0;clip: rect(1px 1px 1px 1px);clip: rect(1px, 1px, 1px, 1px);height: 1px;margin: -1px;overflow: hidden;padding: 0;position: absolute;width: 1px;}#sk-container-id-3 div.sk-estimator {font-family: monospace;background-color: #f0f8ff;border: 1px dotted black;border-radius: 0.25em;box-sizing: border-box;margin-bottom: 0.5em;}#sk-container-id-3 div.sk-estimator:hover {background-color: #d4ebff;}#sk-container-id-3 div.sk-parallel-item::after {content: \"\";width: 100%;border-bottom: 1px solid gray;flex-grow: 1;}#sk-container-id-3 div.sk-label:hover label.sk-toggleable__label {background-color: #d4ebff;}#sk-container-id-3 div.sk-serial::before {content: \"\";position: absolute;border-left: 1px solid gray;box-sizing: border-box;top: 0;bottom: 0;left: 50%;z-index: 0;}#sk-container-id-3 div.sk-serial {display: flex;flex-direction: column;align-items: center;background-color: white;padding-right: 0.2em;padding-left: 0.2em;position: relative;}#sk-container-id-3 div.sk-item {position: relative;z-index: 1;}#sk-container-id-3 div.sk-parallel {display: flex;align-items: stretch;justify-content: center;background-color: white;position: relative;}#sk-container-id-3 div.sk-item::before, #sk-container-id-3 div.sk-parallel-item::before {content: \"\";position: absolute;border-left: 1px solid gray;box-sizing: border-box;top: 0;bottom: 0;left: 50%;z-index: -1;}#sk-container-id-3 div.sk-parallel-item {display: flex;flex-direction: column;z-index: 1;position: relative;background-color: white;}#sk-container-id-3 div.sk-parallel-item:first-child::after {align-self: flex-end;width: 50%;}#sk-container-id-3 div.sk-parallel-item:last-child::after {align-self: flex-start;width: 50%;}#sk-container-id-3 div.sk-parallel-item:only-child::after {width: 0;}#sk-container-id-3 div.sk-dashed-wrapped {border: 1px dashed gray;margin: 0 0.4em 0.5em 0.4em;box-sizing: border-box;padding-bottom: 0.4em;background-color: white;}#sk-container-id-3 div.sk-label label {font-family: monospace;font-weight: bold;display: inline-block;line-height: 1.2em;}#sk-container-id-3 div.sk-label-container {text-align: center;}#sk-container-id-3 div.sk-container {/* jupyter's `normalize.less` sets `[hidden] { display: none; }` but bootstrap.min.css set `[hidden] { display: none !important; }` so we also need the `!important` here to be able to override the default hidden behavior on the sphinx rendered scikit-learn.org. See: https://github.com/scikit-learn/scikit-learn/issues/21755 */display: inline-block !important;position: relative;}#sk-container-id-3 div.sk-text-repr-fallback {display: none;}</style><div id=\"sk-container-id-3\" class=\"sk-top-container\"><div class=\"sk-text-repr-fallback\"><pre>OneHotEncoder()</pre><b>In a Jupyter environment, please rerun this cell to show the HTML representation or trust the notebook. <br />On GitHub, the HTML representation is unable to render, please try loading this page with nbviewer.org.</b></div><div class=\"sk-container\" hidden><div class=\"sk-item\"><div class=\"sk-estimator sk-toggleable\"><input class=\"sk-toggleable__control sk-hidden--visually\" id=\"sk-estimator-id-9\" type=\"checkbox\" checked><label for=\"sk-estimator-id-9\" class=\"sk-toggleable__label sk-toggleable__label-arrow\">OneHotEncoder</label><div class=\"sk-toggleable__content\"><pre>OneHotEncoder()</pre></div></div></div></div></div>"
      ],
      "text/plain": [
       "OneHotEncoder()"
      ]
     },
     "execution_count": 167,
     "metadata": {},
     "output_type": "execute_result"
    }
   ],
   "source": [
    "ohe=OneHotEncoder()\n",
    "ohe.fit(X[['name','company','fuel_type']])"
   ]
  },
  {
   "cell_type": "code",
   "execution_count": 168,
   "id": "7b86305b",
   "metadata": {},
   "outputs": [
    {
     "data": {
      "text/plain": [
       "[array(['Audi A3 Cabriolet', 'Audi A4 1.8', 'Audi A4 2.0', 'Audi A6 2.0',\n",
       "        'Audi A8', 'Audi Q3 2.0', 'Audi Q5 2.0', 'Audi Q7', 'BMW 3 Series',\n",
       "        'BMW 5 Series', 'BMW 7 Series', 'BMW X1', 'BMW X1 sDrive20d',\n",
       "        'BMW X1 xDrive20d', 'Chevrolet Beat', 'Chevrolet Beat Diesel',\n",
       "        'Chevrolet Beat LS', 'Chevrolet Beat LT', 'Chevrolet Beat PS',\n",
       "        'Chevrolet Cruze LTZ', 'Chevrolet Enjoy', 'Chevrolet Enjoy 1.4',\n",
       "        'Chevrolet Sail 1.2', 'Chevrolet Sail UVA', 'Chevrolet Spark',\n",
       "        'Chevrolet Spark 1.0', 'Chevrolet Spark LS', 'Chevrolet Spark LT',\n",
       "        'Chevrolet Tavera LS', 'Chevrolet Tavera Neo', 'Datsun GO T',\n",
       "        'Datsun Go Plus', 'Datsun Redi GO', 'Fiat Linea Emotion',\n",
       "        'Fiat Petra ELX', 'Fiat Punto Emotion', 'Force Motors Force',\n",
       "        'Force Motors One', 'Ford EcoSport', 'Ford EcoSport Ambiente',\n",
       "        'Ford EcoSport Titanium', 'Ford EcoSport Trend',\n",
       "        'Ford Endeavor 4x4', 'Ford Fiesta', 'Ford Fiesta SXi', 'Ford Figo',\n",
       "        'Ford Figo Diesel', 'Ford Figo Duratorq', 'Ford Figo Petrol',\n",
       "        'Ford Fusion 1.4', 'Ford Ikon 1.3', 'Ford Ikon 1.6',\n",
       "        'Hindustan Motors Ambassador', 'Honda Accord', 'Honda Amaze',\n",
       "        'Honda Amaze 1.2', 'Honda Amaze 1.5', 'Honda Brio', 'Honda Brio V',\n",
       "        'Honda Brio VX', 'Honda City', 'Honda City 1.5', 'Honda City SV',\n",
       "        'Honda City VX', 'Honda City ZX', 'Honda Jazz S', 'Honda Jazz VX',\n",
       "        'Honda Mobilio', 'Honda Mobilio S', 'Honda WR V', 'Hyundai Accent',\n",
       "        'Hyundai Accent Executive', 'Hyundai Accent GLE',\n",
       "        'Hyundai Accent GLX', 'Hyundai Creta', 'Hyundai Creta 1.6',\n",
       "        'Hyundai Elantra 1.8', 'Hyundai Elantra SX', 'Hyundai Elite i20',\n",
       "        'Hyundai Eon', 'Hyundai Eon D', 'Hyundai Eon Era',\n",
       "        'Hyundai Eon Magna', 'Hyundai Eon Sportz', 'Hyundai Fluidic Verna',\n",
       "        'Hyundai Getz', 'Hyundai Getz GLE', 'Hyundai Getz Prime',\n",
       "        'Hyundai Grand i10', 'Hyundai Santro', 'Hyundai Santro AE',\n",
       "        'Hyundai Santro Xing', 'Hyundai Sonata Transform', 'Hyundai Verna',\n",
       "        'Hyundai Verna 1.4', 'Hyundai Verna 1.6', 'Hyundai Verna Fluidic',\n",
       "        'Hyundai Verna Transform', 'Hyundai Verna VGT',\n",
       "        'Hyundai Xcent Base', 'Hyundai Xcent SX', 'Hyundai i10',\n",
       "        'Hyundai i10 Era', 'Hyundai i10 Magna', 'Hyundai i10 Sportz',\n",
       "        'Hyundai i20', 'Hyundai i20 Active', 'Hyundai i20 Asta',\n",
       "        'Hyundai i20 Magna', 'Hyundai i20 Select', 'Hyundai i20 Sportz',\n",
       "        'Jaguar XE XE', 'Jaguar XF 2.2', 'Jeep Wrangler Unlimited',\n",
       "        'Land Rover Freelander', 'Mahindra Bolero DI',\n",
       "        'Mahindra Bolero Power', 'Mahindra Bolero SLE',\n",
       "        'Mahindra Jeep CL550', 'Mahindra Jeep MM', 'Mahindra KUV100',\n",
       "        'Mahindra KUV100 K8', 'Mahindra Logan', 'Mahindra Logan Diesel',\n",
       "        'Mahindra Quanto C4', 'Mahindra Quanto C8', 'Mahindra Scorpio',\n",
       "        'Mahindra Scorpio 2.6', 'Mahindra Scorpio LX',\n",
       "        'Mahindra Scorpio S10', 'Mahindra Scorpio S4',\n",
       "        'Mahindra Scorpio SLE', 'Mahindra Scorpio SLX',\n",
       "        'Mahindra Scorpio VLX', 'Mahindra Scorpio Vlx',\n",
       "        'Mahindra Scorpio W', 'Mahindra TUV300 T4', 'Mahindra TUV300 T8',\n",
       "        'Mahindra Thar CRDe', 'Mahindra XUV500', 'Mahindra XUV500 W10',\n",
       "        'Mahindra XUV500 W6', 'Mahindra XUV500 W8', 'Mahindra Xylo D2',\n",
       "        'Mahindra Xylo E4', 'Mahindra Xylo E8', 'Maruti Suzuki 800',\n",
       "        'Maruti Suzuki A', 'Maruti Suzuki Alto', 'Maruti Suzuki Baleno',\n",
       "        'Maruti Suzuki Celerio', 'Maruti Suzuki Ciaz',\n",
       "        'Maruti Suzuki Dzire', 'Maruti Suzuki Eeco',\n",
       "        'Maruti Suzuki Ertiga', 'Maruti Suzuki Esteem',\n",
       "        'Maruti Suzuki Estilo', 'Maruti Suzuki Maruti',\n",
       "        'Maruti Suzuki Omni', 'Maruti Suzuki Ritz', 'Maruti Suzuki S',\n",
       "        'Maruti Suzuki SX4', 'Maruti Suzuki Stingray',\n",
       "        'Maruti Suzuki Swift', 'Maruti Suzuki Versa',\n",
       "        'Maruti Suzuki Vitara', 'Maruti Suzuki Wagon', 'Maruti Suzuki Zen',\n",
       "        'Mercedes Benz A', 'Mercedes Benz B', 'Mercedes Benz C',\n",
       "        'Mercedes Benz GLA', 'Mini Cooper S', 'Mitsubishi Lancer 1.8',\n",
       "        'Mitsubishi Pajero Sport', 'Nissan Micra XL', 'Nissan Micra XV',\n",
       "        'Nissan Sunny', 'Nissan Sunny XL', 'Nissan Terrano XL',\n",
       "        'Nissan X Trail', 'Renault Duster', 'Renault Duster 110',\n",
       "        'Renault Duster 110PS', 'Renault Duster 85', 'Renault Duster 85PS',\n",
       "        'Renault Duster RxL', 'Renault Kwid', 'Renault Kwid 1.0',\n",
       "        'Renault Kwid RXT', 'Renault Lodgy 85', 'Renault Scala RxL',\n",
       "        'Skoda Fabia', 'Skoda Fabia 1.2L', 'Skoda Fabia Classic',\n",
       "        'Skoda Laura', 'Skoda Octavia Classic', 'Skoda Rapid Elegance',\n",
       "        'Skoda Superb 1.8', 'Skoda Yeti Ambition', 'Tata Aria Pleasure',\n",
       "        'Tata Bolt XM', 'Tata Indica', 'Tata Indica V2', 'Tata Indica eV2',\n",
       "        'Tata Indigo CS', 'Tata Indigo LS', 'Tata Indigo LX',\n",
       "        'Tata Indigo Marina', 'Tata Indigo eCS', 'Tata Manza',\n",
       "        'Tata Manza Aqua', 'Tata Manza Aura', 'Tata Manza ELAN',\n",
       "        'Tata Nano', 'Tata Nano Cx', 'Tata Nano GenX', 'Tata Nano LX',\n",
       "        'Tata Nano Lx', 'Tata Sumo Gold', 'Tata Sumo Grande',\n",
       "        'Tata Sumo Victa', 'Tata Tiago Revotorq', 'Tata Tiago Revotron',\n",
       "        'Tata Tigor Revotron', 'Tata Venture EX', 'Tata Vista Quadrajet',\n",
       "        'Tata Zest Quadrajet', 'Tata Zest XE', 'Tata Zest XM',\n",
       "        'Toyota Corolla', 'Toyota Corolla Altis', 'Toyota Corolla H2',\n",
       "        'Toyota Etios', 'Toyota Etios G', 'Toyota Etios GD',\n",
       "        'Toyota Etios Liva', 'Toyota Fortuner', 'Toyota Fortuner 3.0',\n",
       "        'Toyota Innova 2.0', 'Toyota Innova 2.5', 'Toyota Qualis',\n",
       "        'Volkswagen Jetta Comfortline', 'Volkswagen Jetta Highline',\n",
       "        'Volkswagen Passat Diesel', 'Volkswagen Polo',\n",
       "        'Volkswagen Polo Comfortline', 'Volkswagen Polo Highline',\n",
       "        'Volkswagen Polo Highline1.2L', 'Volkswagen Polo Trendline',\n",
       "        'Volkswagen Vento Comfortline', 'Volkswagen Vento Highline',\n",
       "        'Volkswagen Vento Konekt', 'Volvo S80 Summum'], dtype=object),\n",
       " array(['Audi', 'BMW', 'Chevrolet', 'Datsun', 'Fiat', 'Force', 'Ford',\n",
       "        'Hindustan', 'Honda', 'Hyundai', 'Jaguar', 'Jeep', 'Land',\n",
       "        'Mahindra', 'Maruti', 'Mercedes', 'Mini', 'Mitsubishi', 'Nissan',\n",
       "        'Renault', 'Skoda', 'Tata', 'Toyota', 'Volkswagen', 'Volvo'],\n",
       "       dtype=object),\n",
       " array(['Diesel', 'LPG', 'Petrol'], dtype=object)]"
      ]
     },
     "execution_count": 168,
     "metadata": {},
     "output_type": "execute_result"
    }
   ],
   "source": [
    "ohe.categories_"
   ]
  },
  {
   "cell_type": "markdown",
   "id": "53c327fc",
   "metadata": {},
   "source": [
    "Imagine you're getting ready to cook a delicious meal. You have different ingredients that need different preparations before they can be added to the dish. Some need chopping, some need boiling, and some need to be left as they are.\n",
    "\n",
    "In machine learning, a dataset is like your ingredients, and the columns in the dataset are like the different ingredients you have. Just as you prepare ingredients in specific ways, you often need to process or transform your columns differently before feeding them into a machine learning model.\n",
    "\n",
    "A ColumnTransformer is like having a magic kitchen tool that knows exactly how to handle each ingredient. It helps you manage the different types of columns in your dataset by applying the right transformations to each one"
   ]
  },
  {
   "cell_type": "code",
   "execution_count": 169,
   "id": "eedd567c",
   "metadata": {},
   "outputs": [],
   "source": [
    "column_trans=make_column_transformer((OneHotEncoder(categories=ohe.categories_),['name','company','fuel_type']),\n",
    "                                    remainder='passthrough')"
   ]
  },
  {
   "cell_type": "code",
   "execution_count": 170,
   "id": "31c2c57c",
   "metadata": {},
   "outputs": [],
   "source": [
    "lr=LinearRegression()\n"
   ]
  },
  {
   "cell_type": "code",
   "execution_count": 171,
   "id": "984b3c29",
   "metadata": {},
   "outputs": [
    {
     "data": {
      "text/html": [
       "<style>#sk-container-id-4 {color: black;}#sk-container-id-4 pre{padding: 0;}#sk-container-id-4 div.sk-toggleable {background-color: white;}#sk-container-id-4 label.sk-toggleable__label {cursor: pointer;display: block;width: 100%;margin-bottom: 0;padding: 0.3em;box-sizing: border-box;text-align: center;}#sk-container-id-4 label.sk-toggleable__label-arrow:before {content: \"▸\";float: left;margin-right: 0.25em;color: #696969;}#sk-container-id-4 label.sk-toggleable__label-arrow:hover:before {color: black;}#sk-container-id-4 div.sk-estimator:hover label.sk-toggleable__label-arrow:before {color: black;}#sk-container-id-4 div.sk-toggleable__content {max-height: 0;max-width: 0;overflow: hidden;text-align: left;background-color: #f0f8ff;}#sk-container-id-4 div.sk-toggleable__content pre {margin: 0.2em;color: black;border-radius: 0.25em;background-color: #f0f8ff;}#sk-container-id-4 input.sk-toggleable__control:checked~div.sk-toggleable__content {max-height: 200px;max-width: 100%;overflow: auto;}#sk-container-id-4 input.sk-toggleable__control:checked~label.sk-toggleable__label-arrow:before {content: \"▾\";}#sk-container-id-4 div.sk-estimator input.sk-toggleable__control:checked~label.sk-toggleable__label {background-color: #d4ebff;}#sk-container-id-4 div.sk-label input.sk-toggleable__control:checked~label.sk-toggleable__label {background-color: #d4ebff;}#sk-container-id-4 input.sk-hidden--visually {border: 0;clip: rect(1px 1px 1px 1px);clip: rect(1px, 1px, 1px, 1px);height: 1px;margin: -1px;overflow: hidden;padding: 0;position: absolute;width: 1px;}#sk-container-id-4 div.sk-estimator {font-family: monospace;background-color: #f0f8ff;border: 1px dotted black;border-radius: 0.25em;box-sizing: border-box;margin-bottom: 0.5em;}#sk-container-id-4 div.sk-estimator:hover {background-color: #d4ebff;}#sk-container-id-4 div.sk-parallel-item::after {content: \"\";width: 100%;border-bottom: 1px solid gray;flex-grow: 1;}#sk-container-id-4 div.sk-label:hover label.sk-toggleable__label {background-color: #d4ebff;}#sk-container-id-4 div.sk-serial::before {content: \"\";position: absolute;border-left: 1px solid gray;box-sizing: border-box;top: 0;bottom: 0;left: 50%;z-index: 0;}#sk-container-id-4 div.sk-serial {display: flex;flex-direction: column;align-items: center;background-color: white;padding-right: 0.2em;padding-left: 0.2em;position: relative;}#sk-container-id-4 div.sk-item {position: relative;z-index: 1;}#sk-container-id-4 div.sk-parallel {display: flex;align-items: stretch;justify-content: center;background-color: white;position: relative;}#sk-container-id-4 div.sk-item::before, #sk-container-id-4 div.sk-parallel-item::before {content: \"\";position: absolute;border-left: 1px solid gray;box-sizing: border-box;top: 0;bottom: 0;left: 50%;z-index: -1;}#sk-container-id-4 div.sk-parallel-item {display: flex;flex-direction: column;z-index: 1;position: relative;background-color: white;}#sk-container-id-4 div.sk-parallel-item:first-child::after {align-self: flex-end;width: 50%;}#sk-container-id-4 div.sk-parallel-item:last-child::after {align-self: flex-start;width: 50%;}#sk-container-id-4 div.sk-parallel-item:only-child::after {width: 0;}#sk-container-id-4 div.sk-dashed-wrapped {border: 1px dashed gray;margin: 0 0.4em 0.5em 0.4em;box-sizing: border-box;padding-bottom: 0.4em;background-color: white;}#sk-container-id-4 div.sk-label label {font-family: monospace;font-weight: bold;display: inline-block;line-height: 1.2em;}#sk-container-id-4 div.sk-label-container {text-align: center;}#sk-container-id-4 div.sk-container {/* jupyter's `normalize.less` sets `[hidden] { display: none; }` but bootstrap.min.css set `[hidden] { display: none !important; }` so we also need the `!important` here to be able to override the default hidden behavior on the sphinx rendered scikit-learn.org. See: https://github.com/scikit-learn/scikit-learn/issues/21755 */display: inline-block !important;position: relative;}#sk-container-id-4 div.sk-text-repr-fallback {display: none;}</style><div id=\"sk-container-id-4\" class=\"sk-top-container\"><div class=\"sk-text-repr-fallback\"><pre>Pipeline(steps=[(&#x27;columntransformer&#x27;,\n",
       "                 ColumnTransformer(remainder=&#x27;passthrough&#x27;,\n",
       "                                   transformers=[(&#x27;onehotencoder&#x27;,\n",
       "                                                  OneHotEncoder(categories=[array([&#x27;Audi A3 Cabriolet&#x27;, &#x27;Audi A4 1.8&#x27;, &#x27;Audi A4 2.0&#x27;, &#x27;Audi A6 2.0&#x27;,\n",
       "       &#x27;Audi A8&#x27;, &#x27;Audi Q3 2.0&#x27;, &#x27;Audi Q5 2.0&#x27;, &#x27;Audi Q7&#x27;, &#x27;BMW 3 Series&#x27;,\n",
       "       &#x27;BMW 5 Series&#x27;, &#x27;BMW 7 Series&#x27;, &#x27;BMW X1&#x27;, &#x27;BMW X1 sDrive20d&#x27;,\n",
       "       &#x27;BMW X1 xDrive20d&#x27;, &#x27;Chevrolet Beat&#x27;, &#x27;Chevrolet Beat...\n",
       "                                                                            array([&#x27;Audi&#x27;, &#x27;BMW&#x27;, &#x27;Chevrolet&#x27;, &#x27;Datsun&#x27;, &#x27;Fiat&#x27;, &#x27;Force&#x27;, &#x27;Ford&#x27;,\n",
       "       &#x27;Hindustan&#x27;, &#x27;Honda&#x27;, &#x27;Hyundai&#x27;, &#x27;Jaguar&#x27;, &#x27;Jeep&#x27;, &#x27;Land&#x27;,\n",
       "       &#x27;Mahindra&#x27;, &#x27;Maruti&#x27;, &#x27;Mercedes&#x27;, &#x27;Mini&#x27;, &#x27;Mitsubishi&#x27;, &#x27;Nissan&#x27;,\n",
       "       &#x27;Renault&#x27;, &#x27;Skoda&#x27;, &#x27;Tata&#x27;, &#x27;Toyota&#x27;, &#x27;Volkswagen&#x27;, &#x27;Volvo&#x27;],\n",
       "      dtype=object),\n",
       "                                                                            array([&#x27;Diesel&#x27;, &#x27;LPG&#x27;, &#x27;Petrol&#x27;], dtype=object)]),\n",
       "                                                  [&#x27;name&#x27;, &#x27;company&#x27;,\n",
       "                                                   &#x27;fuel_type&#x27;])])),\n",
       "                (&#x27;linearregression&#x27;, LinearRegression())])</pre><b>In a Jupyter environment, please rerun this cell to show the HTML representation or trust the notebook. <br />On GitHub, the HTML representation is unable to render, please try loading this page with nbviewer.org.</b></div><div class=\"sk-container\" hidden><div class=\"sk-item sk-dashed-wrapped\"><div class=\"sk-label-container\"><div class=\"sk-label sk-toggleable\"><input class=\"sk-toggleable__control sk-hidden--visually\" id=\"sk-estimator-id-10\" type=\"checkbox\" ><label for=\"sk-estimator-id-10\" class=\"sk-toggleable__label sk-toggleable__label-arrow\">Pipeline</label><div class=\"sk-toggleable__content\"><pre>Pipeline(steps=[(&#x27;columntransformer&#x27;,\n",
       "                 ColumnTransformer(remainder=&#x27;passthrough&#x27;,\n",
       "                                   transformers=[(&#x27;onehotencoder&#x27;,\n",
       "                                                  OneHotEncoder(categories=[array([&#x27;Audi A3 Cabriolet&#x27;, &#x27;Audi A4 1.8&#x27;, &#x27;Audi A4 2.0&#x27;, &#x27;Audi A6 2.0&#x27;,\n",
       "       &#x27;Audi A8&#x27;, &#x27;Audi Q3 2.0&#x27;, &#x27;Audi Q5 2.0&#x27;, &#x27;Audi Q7&#x27;, &#x27;BMW 3 Series&#x27;,\n",
       "       &#x27;BMW 5 Series&#x27;, &#x27;BMW 7 Series&#x27;, &#x27;BMW X1&#x27;, &#x27;BMW X1 sDrive20d&#x27;,\n",
       "       &#x27;BMW X1 xDrive20d&#x27;, &#x27;Chevrolet Beat&#x27;, &#x27;Chevrolet Beat...\n",
       "                                                                            array([&#x27;Audi&#x27;, &#x27;BMW&#x27;, &#x27;Chevrolet&#x27;, &#x27;Datsun&#x27;, &#x27;Fiat&#x27;, &#x27;Force&#x27;, &#x27;Ford&#x27;,\n",
       "       &#x27;Hindustan&#x27;, &#x27;Honda&#x27;, &#x27;Hyundai&#x27;, &#x27;Jaguar&#x27;, &#x27;Jeep&#x27;, &#x27;Land&#x27;,\n",
       "       &#x27;Mahindra&#x27;, &#x27;Maruti&#x27;, &#x27;Mercedes&#x27;, &#x27;Mini&#x27;, &#x27;Mitsubishi&#x27;, &#x27;Nissan&#x27;,\n",
       "       &#x27;Renault&#x27;, &#x27;Skoda&#x27;, &#x27;Tata&#x27;, &#x27;Toyota&#x27;, &#x27;Volkswagen&#x27;, &#x27;Volvo&#x27;],\n",
       "      dtype=object),\n",
       "                                                                            array([&#x27;Diesel&#x27;, &#x27;LPG&#x27;, &#x27;Petrol&#x27;], dtype=object)]),\n",
       "                                                  [&#x27;name&#x27;, &#x27;company&#x27;,\n",
       "                                                   &#x27;fuel_type&#x27;])])),\n",
       "                (&#x27;linearregression&#x27;, LinearRegression())])</pre></div></div></div><div class=\"sk-serial\"><div class=\"sk-item sk-dashed-wrapped\"><div class=\"sk-label-container\"><div class=\"sk-label sk-toggleable\"><input class=\"sk-toggleable__control sk-hidden--visually\" id=\"sk-estimator-id-11\" type=\"checkbox\" ><label for=\"sk-estimator-id-11\" class=\"sk-toggleable__label sk-toggleable__label-arrow\">columntransformer: ColumnTransformer</label><div class=\"sk-toggleable__content\"><pre>ColumnTransformer(remainder=&#x27;passthrough&#x27;,\n",
       "                  transformers=[(&#x27;onehotencoder&#x27;,\n",
       "                                 OneHotEncoder(categories=[array([&#x27;Audi A3 Cabriolet&#x27;, &#x27;Audi A4 1.8&#x27;, &#x27;Audi A4 2.0&#x27;, &#x27;Audi A6 2.0&#x27;,\n",
       "       &#x27;Audi A8&#x27;, &#x27;Audi Q3 2.0&#x27;, &#x27;Audi Q5 2.0&#x27;, &#x27;Audi Q7&#x27;, &#x27;BMW 3 Series&#x27;,\n",
       "       &#x27;BMW 5 Series&#x27;, &#x27;BMW 7 Series&#x27;, &#x27;BMW X1&#x27;, &#x27;BMW X1 sDrive20d&#x27;,\n",
       "       &#x27;BMW X1 xDrive20d&#x27;, &#x27;Chevrolet Beat&#x27;, &#x27;Chevrolet Beat Diesel&#x27;,\n",
       "       &#x27;Chevrolet Beat LS&#x27;, &#x27;Chevrolet B...\n",
       "       &#x27;Volkswagen Vento Konekt&#x27;, &#x27;Volvo S80 Summum&#x27;], dtype=object),\n",
       "                                                           array([&#x27;Audi&#x27;, &#x27;BMW&#x27;, &#x27;Chevrolet&#x27;, &#x27;Datsun&#x27;, &#x27;Fiat&#x27;, &#x27;Force&#x27;, &#x27;Ford&#x27;,\n",
       "       &#x27;Hindustan&#x27;, &#x27;Honda&#x27;, &#x27;Hyundai&#x27;, &#x27;Jaguar&#x27;, &#x27;Jeep&#x27;, &#x27;Land&#x27;,\n",
       "       &#x27;Mahindra&#x27;, &#x27;Maruti&#x27;, &#x27;Mercedes&#x27;, &#x27;Mini&#x27;, &#x27;Mitsubishi&#x27;, &#x27;Nissan&#x27;,\n",
       "       &#x27;Renault&#x27;, &#x27;Skoda&#x27;, &#x27;Tata&#x27;, &#x27;Toyota&#x27;, &#x27;Volkswagen&#x27;, &#x27;Volvo&#x27;],\n",
       "      dtype=object),\n",
       "                                                           array([&#x27;Diesel&#x27;, &#x27;LPG&#x27;, &#x27;Petrol&#x27;], dtype=object)]),\n",
       "                                 [&#x27;name&#x27;, &#x27;company&#x27;, &#x27;fuel_type&#x27;])])</pre></div></div></div><div class=\"sk-parallel\"><div class=\"sk-parallel-item\"><div class=\"sk-item\"><div class=\"sk-label-container\"><div class=\"sk-label sk-toggleable\"><input class=\"sk-toggleable__control sk-hidden--visually\" id=\"sk-estimator-id-12\" type=\"checkbox\" ><label for=\"sk-estimator-id-12\" class=\"sk-toggleable__label sk-toggleable__label-arrow\">onehotencoder</label><div class=\"sk-toggleable__content\"><pre>[&#x27;name&#x27;, &#x27;company&#x27;, &#x27;fuel_type&#x27;]</pre></div></div></div><div class=\"sk-serial\"><div class=\"sk-item\"><div class=\"sk-estimator sk-toggleable\"><input class=\"sk-toggleable__control sk-hidden--visually\" id=\"sk-estimator-id-13\" type=\"checkbox\" ><label for=\"sk-estimator-id-13\" class=\"sk-toggleable__label sk-toggleable__label-arrow\">OneHotEncoder</label><div class=\"sk-toggleable__content\"><pre>OneHotEncoder(categories=[array([&#x27;Audi A3 Cabriolet&#x27;, &#x27;Audi A4 1.8&#x27;, &#x27;Audi A4 2.0&#x27;, &#x27;Audi A6 2.0&#x27;,\n",
       "       &#x27;Audi A8&#x27;, &#x27;Audi Q3 2.0&#x27;, &#x27;Audi Q5 2.0&#x27;, &#x27;Audi Q7&#x27;, &#x27;BMW 3 Series&#x27;,\n",
       "       &#x27;BMW 5 Series&#x27;, &#x27;BMW 7 Series&#x27;, &#x27;BMW X1&#x27;, &#x27;BMW X1 sDrive20d&#x27;,\n",
       "       &#x27;BMW X1 xDrive20d&#x27;, &#x27;Chevrolet Beat&#x27;, &#x27;Chevrolet Beat Diesel&#x27;,\n",
       "       &#x27;Chevrolet Beat LS&#x27;, &#x27;Chevrolet Beat LT&#x27;, &#x27;Chevrolet Beat PS&#x27;,\n",
       "       &#x27;Chevrolet Cruze LTZ&#x27;, &#x27;Chevrolet Enjoy&#x27;, &#x27;Chevrolet E...\n",
       "       &#x27;Volkswagen Vento Comfortline&#x27;, &#x27;Volkswagen Vento Highline&#x27;,\n",
       "       &#x27;Volkswagen Vento Konekt&#x27;, &#x27;Volvo S80 Summum&#x27;], dtype=object),\n",
       "                          array([&#x27;Audi&#x27;, &#x27;BMW&#x27;, &#x27;Chevrolet&#x27;, &#x27;Datsun&#x27;, &#x27;Fiat&#x27;, &#x27;Force&#x27;, &#x27;Ford&#x27;,\n",
       "       &#x27;Hindustan&#x27;, &#x27;Honda&#x27;, &#x27;Hyundai&#x27;, &#x27;Jaguar&#x27;, &#x27;Jeep&#x27;, &#x27;Land&#x27;,\n",
       "       &#x27;Mahindra&#x27;, &#x27;Maruti&#x27;, &#x27;Mercedes&#x27;, &#x27;Mini&#x27;, &#x27;Mitsubishi&#x27;, &#x27;Nissan&#x27;,\n",
       "       &#x27;Renault&#x27;, &#x27;Skoda&#x27;, &#x27;Tata&#x27;, &#x27;Toyota&#x27;, &#x27;Volkswagen&#x27;, &#x27;Volvo&#x27;],\n",
       "      dtype=object),\n",
       "                          array([&#x27;Diesel&#x27;, &#x27;LPG&#x27;, &#x27;Petrol&#x27;], dtype=object)])</pre></div></div></div></div></div></div><div class=\"sk-parallel-item\"><div class=\"sk-item\"><div class=\"sk-label-container\"><div class=\"sk-label sk-toggleable\"><input class=\"sk-toggleable__control sk-hidden--visually\" id=\"sk-estimator-id-14\" type=\"checkbox\" ><label for=\"sk-estimator-id-14\" class=\"sk-toggleable__label sk-toggleable__label-arrow\">remainder</label><div class=\"sk-toggleable__content\"><pre>[&#x27;year&#x27;, &#x27;kms_driven&#x27;]</pre></div></div></div><div class=\"sk-serial\"><div class=\"sk-item\"><div class=\"sk-estimator sk-toggleable\"><input class=\"sk-toggleable__control sk-hidden--visually\" id=\"sk-estimator-id-15\" type=\"checkbox\" ><label for=\"sk-estimator-id-15\" class=\"sk-toggleable__label sk-toggleable__label-arrow\">passthrough</label><div class=\"sk-toggleable__content\"><pre>passthrough</pre></div></div></div></div></div></div></div></div><div class=\"sk-item\"><div class=\"sk-estimator sk-toggleable\"><input class=\"sk-toggleable__control sk-hidden--visually\" id=\"sk-estimator-id-16\" type=\"checkbox\" ><label for=\"sk-estimator-id-16\" class=\"sk-toggleable__label sk-toggleable__label-arrow\">LinearRegression</label><div class=\"sk-toggleable__content\"><pre>LinearRegression()</pre></div></div></div></div></div></div></div>"
      ],
      "text/plain": [
       "Pipeline(steps=[('columntransformer',\n",
       "                 ColumnTransformer(remainder='passthrough',\n",
       "                                   transformers=[('onehotencoder',\n",
       "                                                  OneHotEncoder(categories=[array(['Audi A3 Cabriolet', 'Audi A4 1.8', 'Audi A4 2.0', 'Audi A6 2.0',\n",
       "       'Audi A8', 'Audi Q3 2.0', 'Audi Q5 2.0', 'Audi Q7', 'BMW 3 Series',\n",
       "       'BMW 5 Series', 'BMW 7 Series', 'BMW X1', 'BMW X1 sDrive20d',\n",
       "       'BMW X1 xDrive20d', 'Chevrolet Beat', 'Chevrolet Beat...\n",
       "                                                                            array(['Audi', 'BMW', 'Chevrolet', 'Datsun', 'Fiat', 'Force', 'Ford',\n",
       "       'Hindustan', 'Honda', 'Hyundai', 'Jaguar', 'Jeep', 'Land',\n",
       "       'Mahindra', 'Maruti', 'Mercedes', 'Mini', 'Mitsubishi', 'Nissan',\n",
       "       'Renault', 'Skoda', 'Tata', 'Toyota', 'Volkswagen', 'Volvo'],\n",
       "      dtype=object),\n",
       "                                                                            array(['Diesel', 'LPG', 'Petrol'], dtype=object)]),\n",
       "                                                  ['name', 'company',\n",
       "                                                   'fuel_type'])])),\n",
       "                ('linearregression', LinearRegression())])"
      ]
     },
     "execution_count": 171,
     "metadata": {},
     "output_type": "execute_result"
    }
   ],
   "source": [
    "pipe=make_pipeline(column_trans,lr)\n",
    "pipe.fit(X_train,y_train)\n"
   ]
  },
  {
   "cell_type": "code",
   "execution_count": 172,
   "id": "53560b69",
   "metadata": {},
   "outputs": [],
   "source": [
    "y_pred=pipe.predict(X_test)\n"
   ]
  },
  {
   "cell_type": "code",
   "execution_count": 173,
   "id": "e9f3c57a",
   "metadata": {},
   "outputs": [
    {
     "data": {
      "text/plain": [
       "0.6576507615658758"
      ]
     },
     "execution_count": 173,
     "metadata": {},
     "output_type": "execute_result"
    }
   ],
   "source": [
    "r2_score(y_test,y_pred)\n"
   ]
  },
  {
   "cell_type": "code",
   "execution_count": 174,
   "id": "53ec95ed",
   "metadata": {},
   "outputs": [],
   "source": [
    "scores=[]\n",
    "for i in range(1000):\n",
    "    X_train,X_test,y_train,y_test=train_test_split(X,y,test_size=0.1,random_state=i)\n",
    "    lr=LinearRegression()\n",
    "    pipe=make_pipeline(column_trans,lr)\n",
    "    pipe.fit(X_train,y_train)\n",
    "    y_pred=pipe.predict(X_test)\n",
    "    scores.append(r2_score(y_test,y_pred))"
   ]
  },
  {
   "cell_type": "code",
   "execution_count": 175,
   "id": "c6befb95",
   "metadata": {},
   "outputs": [
    {
     "data": {
      "text/plain": [
       "302"
      ]
     },
     "execution_count": 175,
     "metadata": {},
     "output_type": "execute_result"
    }
   ],
   "source": [
    "np.argmax(scores)"
   ]
  },
  {
   "cell_type": "code",
   "execution_count": 176,
   "id": "7605b949",
   "metadata": {},
   "outputs": [
    {
     "data": {
      "text/plain": [
       "0.8991138463319752"
      ]
     },
     "execution_count": 176,
     "metadata": {},
     "output_type": "execute_result"
    }
   ],
   "source": [
    "scores[np.argmax(scores)]\n"
   ]
  },
  {
   "cell_type": "code",
   "execution_count": 177,
   "id": "ab642c67",
   "metadata": {},
   "outputs": [
    {
     "data": {
      "text/plain": [
       "array([430287.74002343])"
      ]
     },
     "execution_count": 177,
     "metadata": {},
     "output_type": "execute_result"
    }
   ],
   "source": [
    "pipe.predict(pd.DataFrame(columns=X_test.columns,data=np.array(['Maruti Suzuki Swift','Maruti',2019,100,'Petrol']).reshape(1,5)))\n"
   ]
  },
  {
   "cell_type": "code",
   "execution_count": 178,
   "id": "b4ae63db",
   "metadata": {},
   "outputs": [
    {
     "data": {
      "text/plain": [
       "0.8991138463319752"
      ]
     },
     "execution_count": 178,
     "metadata": {},
     "output_type": "execute_result"
    }
   ],
   "source": [
    "X_train,X_test,y_train,y_test=train_test_split(X,y,test_size=0.1,random_state=np.argmax(scores))\n",
    "lr=LinearRegression()\n",
    "pipe=make_pipeline(column_trans,lr)\n",
    "pipe.fit(X_train,y_train)\n",
    "y_pred=pipe.predict(X_test)\n",
    "r2_score(y_test,y_pred)"
   ]
  },
  {
   "cell_type": "code",
   "execution_count": 179,
   "id": "37f8ad62",
   "metadata": {},
   "outputs": [],
   "source": [
    "import pickle\n",
    "pickle.dump(pipe,open('LinearRegressionModel.pkl','wb'))\n"
   ]
  },
  {
   "cell_type": "code",
   "execution_count": 180,
   "id": "f7074d02",
   "metadata": {},
   "outputs": [
    {
     "data": {
      "text/plain": [
       "array([456740.35763086])"
      ]
     },
     "execution_count": 180,
     "metadata": {},
     "output_type": "execute_result"
    }
   ],
   "source": [
    "pipe.predict(pd.DataFrame(columns=['name','company','year','kms_driven','fuel_type'],data=np.array(['Maruti Suzuki Swift','Maruti',2019,100,'Petrol']).reshape(1,5)))\n"
   ]
  },
  {
   "cell_type": "code",
   "execution_count": null,
   "id": "6ec14bf5",
   "metadata": {},
   "outputs": [
    {
     "name": "stdout",
     "output_type": "stream",
     "text": [
      " * Serving Flask app '__main__'\n",
      " * Debug mode: off\n"
     ]
    },
    {
     "name": "stderr",
     "output_type": "stream",
     "text": [
      "WARNING: This is a development server. Do not use it in a production deployment. Use a production WSGI server instead.\n",
      " * Running on http://127.0.0.1:5000\n",
      "Press CTRL+C to quit\n",
      "127.0.0.1 - - [23/Aug/2023 15:15:54] \"GET / HTTP/1.1\" 200 -\n",
      "127.0.0.1 - - [23/Aug/2023 15:16:07] \"POST /predict HTTP/1.1\" 200 -\n"
     ]
    }
   ],
   "source": [
    "import pickle\n",
    "import pandas as pd\n",
    "import numpy as np\n",
    "from flask import Flask, request, jsonify, render_template\n",
    "\n",
    "app = Flask(__name__)\n",
    "\n",
    "# Load the pre-trained model from the pickle file\n",
    "with open('LinearRegressionModel.pkl', 'rb') as file:\n",
    "    model = pickle.load(file)\n",
    "\n",
    "@app.route('/', methods=['GET'])\n",
    "def index():\n",
    "    return render_template('index.html')\n",
    "\n",
    "@app.route('/predict', methods=['POST'])\n",
    "def predict():\n",
    "    if request.method == 'POST':\n",
    "        data = request.form\n",
    "\n",
    "        name = data['name']\n",
    "        company = data['company']\n",
    "        year = int(data['year'])\n",
    "        kms_driven = int(data['kms_driven'])\n",
    "        fuel_type = data['fuel_type']\n",
    "\n",
    "        # Perform any necessary preprocessing on the input data\n",
    "\n",
    "        prediction=model.predict(pd.DataFrame(columns=['name', 'company', 'year', 'kms_driven', 'fuel_type'],\n",
    "                              data=np.array([name,company,year,kms_driven,fuel_type]).reshape(1, 5)))\n",
    "\n",
    "        \n",
    "\n",
    "    return str(np.round(prediction[0],2))\n",
    "\n",
    "if __name__ == '__main__':\n",
    "    app.run()"
   ]
  },
  {
   "cell_type": "code",
   "execution_count": null,
   "id": "fabce136",
   "metadata": {},
   "outputs": [],
   "source": []
  }
 ],
 "metadata": {
  "kernelspec": {
   "display_name": "Python 3 (ipykernel)",
   "language": "python",
   "name": "python3"
  },
  "language_info": {
   "codemirror_mode": {
    "name": "ipython",
    "version": 3
   },
   "file_extension": ".py",
   "mimetype": "text/x-python",
   "name": "python",
   "nbconvert_exporter": "python",
   "pygments_lexer": "ipython3",
   "version": "3.11.4"
  }
 },
 "nbformat": 4,
 "nbformat_minor": 5
}
